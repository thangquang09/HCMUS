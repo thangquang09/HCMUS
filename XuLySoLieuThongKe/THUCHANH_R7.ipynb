{
 "cells": [
  {
   "cell_type": "markdown",
   "metadata": {},
   "source": [
    "## 1. Libraries"
   ]
  },
  {
   "cell_type": "code",
   "execution_count": 64,
   "metadata": {
    "vscode": {
     "languageId": "r"
    }
   },
   "outputs": [],
   "source": [
    "library(janitor, help, pos = 2, lib.loc = NULL)\n",
    "library(tidyverse, help, pos = 2, lib.loc = NULL)\n",
    "library(klaR, help, pos = 2, lib.loc = NULL) # For NAIVE BAYES\n",
    "library(ggcorrplot) # FOR CORR MATRIX PLOT\n",
    "library(MASS, help, pos = 2, lib.loc = NULL) # FOR LDA AND QDA\n",
    "library(nnet, help, pos = 2, lib.loc = NULL) # FOR logistic\n",
    "library(pROC, help, pos = 2, lib.loc = NULL)"
   ]
  },
  {
   "cell_type": "markdown",
   "metadata": {},
   "source": [
    "## 2. Read data"
   ]
  },
  {
   "cell_type": "code",
   "execution_count": 22,
   "metadata": {
    "vscode": {
     "languageId": "r"
    }
   },
   "outputs": [
    {
     "data": {
      "text/html": [
       "<table class=\"dataframe\">\n",
       "<caption>A data.frame: 10 × 10</caption>\n",
       "<thead>\n",
       "\t<tr><th></th><th scope=col>sbp</th><th scope=col>tobacco</th><th scope=col>ldl</th><th scope=col>adiposity</th><th scope=col>famhist</th><th scope=col>typea</th><th scope=col>obesity</th><th scope=col>alcohol</th><th scope=col>age</th><th scope=col>chd</th></tr>\n",
       "\t<tr><th></th><th scope=col>&lt;int&gt;</th><th scope=col>&lt;dbl&gt;</th><th scope=col>&lt;dbl&gt;</th><th scope=col>&lt;dbl&gt;</th><th scope=col>&lt;fct&gt;</th><th scope=col>&lt;int&gt;</th><th scope=col>&lt;dbl&gt;</th><th scope=col>&lt;dbl&gt;</th><th scope=col>&lt;int&gt;</th><th scope=col>&lt;fct&gt;</th></tr>\n",
       "</thead>\n",
       "<tbody>\n",
       "\t<tr><th scope=row>1</th><td>160</td><td>12.00</td><td>5.73</td><td>23.11</td><td>Present</td><td>49</td><td>25.30</td><td>97.20</td><td>52</td><td>1</td></tr>\n",
       "\t<tr><th scope=row>2</th><td>144</td><td> 0.01</td><td>4.41</td><td>28.61</td><td>Absent </td><td>55</td><td>28.87</td><td> 2.06</td><td>63</td><td>1</td></tr>\n",
       "\t<tr><th scope=row>3</th><td>118</td><td> 0.08</td><td>3.48</td><td>32.28</td><td>Present</td><td>52</td><td>29.14</td><td> 3.81</td><td>46</td><td>0</td></tr>\n",
       "\t<tr><th scope=row>4</th><td>170</td><td> 7.50</td><td>6.41</td><td>38.03</td><td>Present</td><td>51</td><td>31.99</td><td>24.26</td><td>58</td><td>1</td></tr>\n",
       "\t<tr><th scope=row>5</th><td>134</td><td>13.60</td><td>3.50</td><td>27.78</td><td>Present</td><td>60</td><td>25.99</td><td>57.34</td><td>49</td><td>1</td></tr>\n",
       "\t<tr><th scope=row>6</th><td>132</td><td> 6.20</td><td>6.47</td><td>36.21</td><td>Present</td><td>62</td><td>30.77</td><td>14.14</td><td>45</td><td>0</td></tr>\n",
       "\t<tr><th scope=row>7</th><td>142</td><td> 4.05</td><td>3.38</td><td>16.20</td><td>Absent </td><td>59</td><td>20.81</td><td> 2.62</td><td>38</td><td>0</td></tr>\n",
       "\t<tr><th scope=row>8</th><td>114</td><td> 4.08</td><td>4.59</td><td>14.60</td><td>Present</td><td>62</td><td>23.11</td><td> 6.72</td><td>58</td><td>1</td></tr>\n",
       "\t<tr><th scope=row>9</th><td>114</td><td> 0.00</td><td>3.83</td><td>19.40</td><td>Present</td><td>49</td><td>24.86</td><td> 2.49</td><td>29</td><td>0</td></tr>\n",
       "\t<tr><th scope=row>10</th><td>132</td><td> 0.00</td><td>5.80</td><td>30.96</td><td>Present</td><td>69</td><td>30.11</td><td> 0.00</td><td>53</td><td>1</td></tr>\n",
       "</tbody>\n",
       "</table>\n"
      ],
      "text/latex": [
       "A data.frame: 10 × 10\n",
       "\\begin{tabular}{r|llllllllll}\n",
       "  & sbp & tobacco & ldl & adiposity & famhist & typea & obesity & alcohol & age & chd\\\\\n",
       "  & <int> & <dbl> & <dbl> & <dbl> & <fct> & <int> & <dbl> & <dbl> & <int> & <fct>\\\\\n",
       "\\hline\n",
       "\t1 & 160 & 12.00 & 5.73 & 23.11 & Present & 49 & 25.30 & 97.20 & 52 & 1\\\\\n",
       "\t2 & 144 &  0.01 & 4.41 & 28.61 & Absent  & 55 & 28.87 &  2.06 & 63 & 1\\\\\n",
       "\t3 & 118 &  0.08 & 3.48 & 32.28 & Present & 52 & 29.14 &  3.81 & 46 & 0\\\\\n",
       "\t4 & 170 &  7.50 & 6.41 & 38.03 & Present & 51 & 31.99 & 24.26 & 58 & 1\\\\\n",
       "\t5 & 134 & 13.60 & 3.50 & 27.78 & Present & 60 & 25.99 & 57.34 & 49 & 1\\\\\n",
       "\t6 & 132 &  6.20 & 6.47 & 36.21 & Present & 62 & 30.77 & 14.14 & 45 & 0\\\\\n",
       "\t7 & 142 &  4.05 & 3.38 & 16.20 & Absent  & 59 & 20.81 &  2.62 & 38 & 0\\\\\n",
       "\t8 & 114 &  4.08 & 4.59 & 14.60 & Present & 62 & 23.11 &  6.72 & 58 & 1\\\\\n",
       "\t9 & 114 &  0.00 & 3.83 & 19.40 & Present & 49 & 24.86 &  2.49 & 29 & 0\\\\\n",
       "\t10 & 132 &  0.00 & 5.80 & 30.96 & Present & 69 & 30.11 &  0.00 & 53 & 1\\\\\n",
       "\\end{tabular}\n"
      ],
      "text/markdown": [
       "\n",
       "A data.frame: 10 × 10\n",
       "\n",
       "| <!--/--> | sbp &lt;int&gt; | tobacco &lt;dbl&gt; | ldl &lt;dbl&gt; | adiposity &lt;dbl&gt; | famhist &lt;fct&gt; | typea &lt;int&gt; | obesity &lt;dbl&gt; | alcohol &lt;dbl&gt; | age &lt;int&gt; | chd &lt;fct&gt; |\n",
       "|---|---|---|---|---|---|---|---|---|---|---|\n",
       "| 1 | 160 | 12.00 | 5.73 | 23.11 | Present | 49 | 25.30 | 97.20 | 52 | 1 |\n",
       "| 2 | 144 |  0.01 | 4.41 | 28.61 | Absent  | 55 | 28.87 |  2.06 | 63 | 1 |\n",
       "| 3 | 118 |  0.08 | 3.48 | 32.28 | Present | 52 | 29.14 |  3.81 | 46 | 0 |\n",
       "| 4 | 170 |  7.50 | 6.41 | 38.03 | Present | 51 | 31.99 | 24.26 | 58 | 1 |\n",
       "| 5 | 134 | 13.60 | 3.50 | 27.78 | Present | 60 | 25.99 | 57.34 | 49 | 1 |\n",
       "| 6 | 132 |  6.20 | 6.47 | 36.21 | Present | 62 | 30.77 | 14.14 | 45 | 0 |\n",
       "| 7 | 142 |  4.05 | 3.38 | 16.20 | Absent  | 59 | 20.81 |  2.62 | 38 | 0 |\n",
       "| 8 | 114 |  4.08 | 4.59 | 14.60 | Present | 62 | 23.11 |  6.72 | 58 | 1 |\n",
       "| 9 | 114 |  0.00 | 3.83 | 19.40 | Present | 49 | 24.86 |  2.49 | 29 | 0 |\n",
       "| 10 | 132 |  0.00 | 5.80 | 30.96 | Present | 69 | 30.11 |  0.00 | 53 | 1 |\n",
       "\n"
      ],
      "text/plain": [
       "   sbp tobacco ldl  adiposity famhist typea obesity alcohol age chd\n",
       "1  160 12.00   5.73 23.11     Present 49    25.30   97.20   52  1  \n",
       "2  144  0.01   4.41 28.61     Absent  55    28.87    2.06   63  1  \n",
       "3  118  0.08   3.48 32.28     Present 52    29.14    3.81   46  0  \n",
       "4  170  7.50   6.41 38.03     Present 51    31.99   24.26   58  1  \n",
       "5  134 13.60   3.50 27.78     Present 60    25.99   57.34   49  1  \n",
       "6  132  6.20   6.47 36.21     Present 62    30.77   14.14   45  0  \n",
       "7  142  4.05   3.38 16.20     Absent  59    20.81    2.62   38  0  \n",
       "8  114  4.08   4.59 14.60     Present 62    23.11    6.72   58  1  \n",
       "9  114  0.00   3.83 19.40     Present 49    24.86    2.49   29  0  \n",
       "10 132  0.00   5.80 30.96     Present 69    30.11    0.00   53  1  "
      ]
     },
     "metadata": {},
     "output_type": "display_data"
    }
   ],
   "source": [
    "SAheart <- read.csv(file=\"datasets/SAheart.csv\")\n",
    "SAheart <- SAheart |>\n",
    "    mutate(famhist = factor(famhist, levels=c(\"Absent\", \"Present\")))\n",
    "\n",
    "SAheart <- SAheart |>\n",
    "    mutate(chd = factor(chd, levels=c(0, 1)))\n",
    "head(SAheart, 10)"
   ]
  },
  {
   "cell_type": "markdown",
   "metadata": {},
   "source": [
    "## 3. Logistic Regression"
   ]
  },
  {
   "cell_type": "code",
   "execution_count": 23,
   "metadata": {
    "vscode": {
     "languageId": "r"
    }
   },
   "outputs": [],
   "source": [
    "out_md <- glm(formula = chd ~ sbp + tobacco + ldl + famhist, data=SAheart, family=binomial)"
   ]
  },
  {
   "cell_type": "code",
   "execution_count": 24,
   "metadata": {
    "vscode": {
     "languageId": "r"
    }
   },
   "outputs": [
    {
     "data": {
      "text/plain": [
       "\n",
       "Call:\n",
       "glm(formula = chd ~ sbp + tobacco + ldl + famhist, family = binomial, \n",
       "    data = SAheart)\n",
       "\n",
       "Deviance Residuals: \n",
       "    Min       1Q   Median       3Q      Max  \n",
       "-1.7698  -0.8126  -0.5431   0.9660   2.2455  \n",
       "\n",
       "Coefficients:\n",
       "                Estimate Std. Error z value Pr(>|z|)    \n",
       "(Intercept)    -4.252750   0.778578  -5.462 4.70e-08 ***\n",
       "sbp             0.011982   0.005317   2.253 0.024234 *  \n",
       "tobacco         0.118880   0.024727   4.808 1.53e-06 ***\n",
       "ldl             0.203350   0.053841   3.777 0.000159 ***\n",
       "famhistPresent  1.050498   0.218629   4.805 1.55e-06 ***\n",
       "---\n",
       "Signif. codes:  0 '***' 0.001 '**' 0.01 '*' 0.05 '.' 0.1 ' ' 1\n",
       "\n",
       "(Dispersion parameter for binomial family taken to be 1)\n",
       "\n",
       "    Null deviance: 596.11  on 461  degrees of freedom\n",
       "Residual deviance: 502.17  on 457  degrees of freedom\n",
       "AIC: 512.17\n",
       "\n",
       "Number of Fisher Scoring iterations: 4\n"
      ]
     },
     "metadata": {},
     "output_type": "display_data"
    }
   ],
   "source": [
    "summary(out_md)"
   ]
  },
  {
   "cell_type": "code",
   "execution_count": 25,
   "metadata": {
    "vscode": {
     "languageId": "r"
    }
   },
   "outputs": [
    {
     "name": "stdout",
     "output_type": "stream",
     "text": [
      "  predicted_prob\n",
      "1      0.1047200\n",
      "2      0.5660823\n",
      "3      0.4386619\n",
      "4      0.6539774\n"
     ]
    }
   ],
   "source": [
    "new_data <- tibble(sbp = c(115, 145, 125, 135),\n",
    "                   tobacco = c(1, 8, 2, 5),\n",
    "                   ldl = c(3, 9, 6, 8),\n",
    "                   famhist = factor(c(\"Absent\", \"Absent\", \"Present\", \"Present\"),\n",
    "                                    levels = c(\"Absent\", \"Present\")))\n",
    "new_data_df <- as.data.frame(new_data)\n",
    "predicted_prob <- predict(out_md, newdata = new_data_df, type = \"response\")\n",
    "predicted_df <- as.data.frame(predicted_prob)\n",
    "print(predicted_df)"
   ]
  },
  {
   "cell_type": "code",
   "execution_count": 26,
   "metadata": {
    "vscode": {
     "languageId": "r"
    }
   },
   "outputs": [
    {
     "name": "stdout",
     "output_type": "stream",
     "text": [
      "   predictions\n",
      "1 non-diseased\n",
      "2     diseased\n",
      "3 non-diseased\n",
      "4     diseased\n"
     ]
    }
   ],
   "source": [
    "pred_prob <- predict(out_md, newdata = new_data, type = \"response\")\n",
    "predictions = ifelse(pred_prob > 0.5, \"diseased\", \"non-diseased\")\n",
    "predictions = as.data.frame(predictions)\n",
    "print(predictions)"
   ]
  },
  {
   "cell_type": "markdown",
   "metadata": {},
   "source": [
    "### Thực hành 1:\n",
    "\n",
    "Xây dựng mô hình với những biến khác trong dữ liệu."
   ]
  },
  {
   "cell_type": "code",
   "execution_count": null,
   "metadata": {
    "vscode": {
     "languageId": "r"
    }
   },
   "outputs": [],
   "source": []
  },
  {
   "cell_type": "markdown",
   "metadata": {},
   "source": [
    "## 4. Naive Bayes\n",
    "\n",
    "Cú pháp:\n",
    "\n",
    "```r\n",
    "NaiveBayes(y ~ x1 + x2 + ..., data = ..., usekernel = FALSE)\n",
    "```\n",
    "\n",
    "trong đó\n",
    "• `formula` = y ∼ x1 + x2 + ... là biểu thức tuyến tính của mô hình, với y là tên của biến đáp ứng\n",
    "(gồm 2 hoặc nhiều nhóm), x1 và x2 lần lượt là tên của các biến giải thích;\n",
    "\n",
    "• `data` là tên của bộ dữ liệu chứa các biến cần cho việc ước lượng mô hình;\n",
    "\n",
    "• `usekernel` là lựa chọn ước lượng kernel cho hàm mật độ, mặc định là FALSE tức là ước lượng mật độ\n",
    "của phân phối chuẩn sẽ được áp dụng; nếu chọn TRUE thì ước lượng mật độ kernel được áp dụng."
   ]
  },
  {
   "cell_type": "code",
   "execution_count": 27,
   "metadata": {
    "vscode": {
     "languageId": "r"
    }
   },
   "outputs": [],
   "source": [
    "out_md_NB <- NaiveBayes(formula = chd ~ sbp + tobacco + ldl + famhist,\n",
    "data = SAheart)"
   ]
  },
  {
   "cell_type": "code",
   "execution_count": 28,
   "metadata": {
    "vscode": {
     "languageId": "r"
    }
   },
   "outputs": [
    {
     "name": "stdout",
     "output_type": "stream",
     "text": [
      "  class posterior.0 posterior.1\n",
      "1     0   0.9390189  0.06098106\n",
      "2     1   0.2797191  0.72028085\n",
      "3     0   0.6994431  0.30055686\n",
      "4     1   0.3695696  0.63043037\n"
     ]
    }
   ],
   "source": [
    "new_data <- tibble(sbp = c(115, 145, 125, 135),\n",
    "                tobacco = c(1, 8, 2, 5),\n",
    "                ldl = c(3, 9, 6, 8),\n",
    "                famhist = factor(c(\"Absent\", \"Absent\", \"Present\", \"Present\"),\n",
    "                levels = c(\"Absent\", \"Present\")))\n",
    "pred_out_md_NB <- as.data.frame(predict(out_md_NB, newdata = new_data))\n",
    "print(pred_out_md_NB)"
   ]
  },
  {
   "cell_type": "markdown",
   "metadata": {},
   "source": [
    "### Thực hành 2:\n",
    "\n",
    "Áp dụng ước lượng mật độ kernel cho mô hình Naive Bayes, so sánh kết quả."
   ]
  },
  {
   "cell_type": "code",
   "execution_count": 29,
   "metadata": {
    "vscode": {
     "languageId": "r"
    }
   },
   "outputs": [
    {
     "name": "stdout",
     "output_type": "stream",
     "text": [
      "  class posterior.0 posterior.1\n",
      "1     0   0.9459570  0.05404303\n",
      "2     1   0.2722421  0.72775787\n",
      "3     0   0.5041031  0.49589685\n",
      "4     1   0.3760453  0.62395469\n"
     ]
    }
   ],
   "source": [
    "out_md_NB <- NaiveBayes(formula = chd ~ sbp + tobacco + ldl + famhist,\n",
    "data = SAheart, usekernel=TRUE)\n",
    "\n",
    "new_data <- tibble(sbp = c(115, 145, 125, 135),\n",
    "                tobacco = c(1, 8, 2, 5),\n",
    "                ldl = c(3, 9, 6, 8),\n",
    "                famhist = factor(c(\"Absent\", \"Absent\", \"Present\", \"Present\"),\n",
    "                levels = c(\"Absent\", \"Present\")))\n",
    "pred_out_md_NB <- as.data.frame(predict(out_md_NB, newdata = new_data))\n",
    "print(pred_out_md_NB)"
   ]
  },
  {
   "cell_type": "markdown",
   "metadata": {},
   "source": [
    "### Thực hành 3:\n",
    "\n",
    "Xây dựng mô hình với các biến khác trong dữ liệu."
   ]
  },
  {
   "cell_type": "code",
   "execution_count": 31,
   "metadata": {
    "vscode": {
     "languageId": "r"
    }
   },
   "outputs": [
    {
     "data": {
      "image/png": "[encoded data removed]",
      "text/plain": [
       "plot without title"
      ]
     },
     "metadata": {
      "image/png": {
       "height": 420,
       "width": 420
      }
     },
     "output_type": "display_data"
    }
   ],
   "source": [
    "# Calculate the correlation matrix\n",
    "cor_matrix <- cor(SAheart[, sapply(SAheart, is.numeric)])\n",
    "\n",
    "# Plot the correlation matrix\n",
    "ggcorrplot(cor_matrix, method = \"circle\", type = \"lower\", lab = TRUE)"
   ]
  },
  {
   "cell_type": "code",
   "execution_count": 37,
   "metadata": {
    "vscode": {
     "languageId": "r"
    }
   },
   "outputs": [
    {
     "name": "stdout",
     "output_type": "stream",
     "text": [
      "  class posterior.0 posterior.1\n",
      "1     1   0.2305405   0.7694595\n",
      "2     0   0.8837615   0.1162385\n",
      "3     0   0.9195655   0.0804345\n",
      "4     1   0.3910468   0.6089532\n"
     ]
    }
   ],
   "source": [
    "out_md_NB <- NaiveBayes(formula = chd ~ typea + alcohol + ldl + tobacco,\n",
    "data = SAheart, usekernel=TRUE)\n",
    "\n",
    "new_data <- tibble(typea = c(49, 55, 52, 51),\n",
    "                alcohol = c(97.2, 2.06, 3.81, 24.26),\n",
    "                ldl = c(5.73, 4.41, 3.48, 6.41),\n",
    "                tobacco = c(12, 0.01, 0.08, 7.50))\n",
    "pred_out_md_NB <- as.data.frame(predict(out_md_NB, newdata = new_data))\n",
    "print(pred_out_md_NB)"
   ]
  },
  {
   "cell_type": "markdown",
   "metadata": {},
   "source": [
    "Kết quả dự đoán đúng là 75%"
   ]
  },
  {
   "cell_type": "markdown",
   "metadata": {},
   "source": [
    "### 5. Phân loại LDA và QDA"
   ]
  },
  {
   "cell_type": "markdown",
   "metadata": {},
   "source": [
    "Cú pháp:\n",
    "\n",
    "```r\n",
    "lda(y ~ x1 + x2 + ..., data = ...)\n",
    "```\n",
    "\n",
    "và\n",
    "\n",
    "```r\n",
    "qda(y ~ x1 + x2 + ..., data = ...)\n",
    "```"
   ]
  },
  {
   "cell_type": "code",
   "execution_count": null,
   "metadata": {
    "vscode": {
     "languageId": "r"
    }
   },
   "outputs": [],
   "source": [
    "out_md_LDA <- lda(formula = chd ~ sbp + tobacco + ldl + famhist,\n",
    "data = SAheart)"
   ]
  },
  {
   "cell_type": "code",
   "execution_count": 40,
   "metadata": {
    "vscode": {
     "languageId": "r"
    }
   },
   "outputs": [
    {
     "data": {
      "text/plain": [
       "Call:\n",
       "lda(chd ~ sbp + tobacco + ldl + famhist, data = SAheart)\n",
       "\n",
       "Prior probabilities of groups:\n",
       "        0         1 \n",
       "0.6536797 0.3463203 \n",
       "\n",
       "Group means:\n",
       "       sbp  tobacco      ldl famhistPresent\n",
       "0 135.4603 2.634735 4.344238      0.3178808\n",
       "1 143.7375 5.524875 5.487938      0.6000000\n",
       "\n",
       "Coefficients of linear discriminants:\n",
       "                     LD1\n",
       "sbp            0.0119491\n",
       "tobacco        0.1278937\n",
       "ldl            0.2152361\n",
       "famhistPresent 1.1032934"
      ]
     },
     "metadata": {},
     "output_type": "display_data"
    }
   ],
   "source": [
    "out_md_LDA"
   ]
  },
  {
   "cell_type": "code",
   "execution_count": 43,
   "metadata": {
    "vscode": {
     "languageId": "r"
    }
   },
   "outputs": [
    {
     "name": "stdout",
     "output_type": "stream",
     "text": [
      "          0          1\n",
      "1 0.9075048 0.09249518\n",
      "2 0.4188052 0.58119476\n",
      "3 0.5585615 0.44143848\n",
      "4 0.3268301 0.67316992\n"
     ]
    }
   ],
   "source": [
    "new_data <- tibble(sbp = c(115, 145, 125, 135),\n",
    "                tobacco = c(1, 8, 2, 5),\n",
    "                ldl = c(3, 9, 6, 8),\n",
    "                famhist = factor(c(\"Absent\", \"Absent\", \"Present\", \"Present\"),\n",
    "                levels = c(\"Absent\", \"Present\")))\n",
    "pred_out_md_LDA <- as.data.frame(predict(out_md_LDA, newdata = new_data)$posterior)\n",
    "print(pred_out_md_LDA)"
   ]
  },
  {
   "cell_type": "markdown",
   "metadata": {},
   "source": [
    "### Thực hành 4:\n",
    "\n",
    "Xây dựng mô hình QDA với các biến được sử dụng trong ví dụ 1."
   ]
  },
  {
   "cell_type": "code",
   "execution_count": 44,
   "metadata": {
    "vscode": {
     "languageId": "r"
    }
   },
   "outputs": [],
   "source": [
    "out_md_qda <- qda(formula = chd ~ sbp + tobacco + ldl + famhist,\n",
    "data = SAheart)"
   ]
  },
  {
   "cell_type": "code",
   "execution_count": 45,
   "metadata": {
    "vscode": {
     "languageId": "r"
    }
   },
   "outputs": [
    {
     "name": "stdout",
     "output_type": "stream",
     "text": [
      "          0          1\n",
      "1 0.9075048 0.09249518\n",
      "2 0.4188052 0.58119476\n",
      "3 0.5585615 0.44143848\n",
      "4 0.3268301 0.67316992\n"
     ]
    }
   ],
   "source": [
    "new_data <- tibble(sbp = c(115, 145, 125, 135),\n",
    "                tobacco = c(1, 8, 2, 5),\n",
    "                ldl = c(3, 9, 6, 8),\n",
    "                famhist = factor(c(\"Absent\", \"Absent\", \"Present\", \"Present\"),\n",
    "                levels = c(\"Absent\", \"Present\")))\n",
    "pred_out_md_QDA <- as.data.frame(predict(out_md_qda, newdata = new_data)$posterior)\n",
    "print(pred_out_md_LDA)"
   ]
  },
  {
   "cell_type": "markdown",
   "metadata": {},
   "source": [
    "### Thực hành 5:\n",
    "\n",
    "Xây dựng mô hình **LDA** và **QDA** với các biến khác trong dữ liệu."
   ]
  },
  {
   "cell_type": "code",
   "execution_count": 50,
   "metadata": {
    "vscode": {
     "languageId": "r"
    }
   },
   "outputs": [
    {
     "name": "stdout",
     "output_type": "stream",
     "text": [
      "[1] \"LDA:\"\n",
      "          0         1\n",
      "1 0.3343283 0.6656717\n",
      "2 0.7895629 0.2104371\n",
      "3 0.8351443 0.1648557\n",
      "4 0.4545361 0.5454639\n",
      "[1] \"QDA:\"\n",
      "          0          1\n",
      "1 0.1445615 0.85543850\n",
      "2 0.8574973 0.14250272\n",
      "3 0.9036542 0.09634579\n",
      "4 0.5968697 0.40313029\n"
     ]
    }
   ],
   "source": [
    "out_md_lda = lda(formula = chd ~ typea + alcohol + ldl + tobacco, data=SAheart)\n",
    "out_md_qda = qda(formula = chd ~ typea + alcohol + ldl + tobacco, data=SAheart)\n",
    "\n",
    "new_data <- tibble(typea = c(49, 55, 52, 51),\n",
    "                alcohol = c(97.2, 2.06, 3.81, 24.26),\n",
    "                ldl = c(5.73, 4.41, 3.48, 6.41),\n",
    "                tobacco = c(12, 0.01, 0.08, 7.50))\n",
    "\n",
    "pred_out_md_lda <- as.data.frame(predict(out_md_lda, newdata = new_data)$posterior)\n",
    "pred_out_md_qda <- as.data.frame(predict(out_md_qda, newdata = new_data)$posterior)\n",
    "\n",
    "print(\"LDA:\")\n",
    "print(pred_out_md_lda)\n",
    "print(\"QDA:\")\n",
    "print(pred_out_md_qda)"
   ]
  },
  {
   "cell_type": "markdown",
   "metadata": {},
   "source": [
    "## 6.  Mô hình multinominal logistic\n",
    "\n",
    "Cú pháp:\n",
    "\n",
    "```r\n",
    "multinom(y ~ x1 + x2 + ..., data = ..., maxit = 100)\n",
    "```"
   ]
  },
  {
   "cell_type": "code",
   "execution_count": 51,
   "metadata": {
    "vscode": {
     "languageId": "r"
    }
   },
   "outputs": [
    {
     "name": "stdout",
     "output_type": "stream",
     "text": [
      "Rows: 150\n",
      "Columns: 5\n",
      "$ sepal_length \u001b[3m\u001b[90m<dbl>\u001b[39m\u001b[23m 5.1, 4.9, 4.7, 4.6, 5.0, 5.4, 4.6, 5.0, 4.4, 4.9, 5.4, 4.~\n",
      "$ sepal_width  \u001b[3m\u001b[90m<dbl>\u001b[39m\u001b[23m 3.5, 3.0, 3.2, 3.1, 3.6, 3.9, 3.4, 3.4, 2.9, 3.1, 3.7, 3.~\n",
      "$ petal_length \u001b[3m\u001b[90m<dbl>\u001b[39m\u001b[23m 1.4, 1.4, 1.3, 1.5, 1.4, 1.7, 1.4, 1.5, 1.4, 1.5, 1.5, 1.~\n",
      "$ petal_width  \u001b[3m\u001b[90m<dbl>\u001b[39m\u001b[23m 0.2, 0.2, 0.2, 0.2, 0.2, 0.4, 0.3, 0.2, 0.2, 0.1, 0.2, 0.~\n",
      "$ species      \u001b[3m\u001b[90m<fct>\u001b[39m\u001b[23m setosa, setosa, setosa, setosa, setosa, setosa, setosa, s~\n"
     ]
    }
   ],
   "source": [
    "data(\"iris\")\n",
    "iris <- iris |> janitor::clean_names()\n",
    "glimpse(iris)"
   ]
  },
  {
   "cell_type": "code",
   "execution_count": 54,
   "metadata": {
    "vscode": {
     "languageId": "r"
    }
   },
   "outputs": [
    {
     "name": "stdout",
     "output_type": "stream",
     "text": [
      "# weights:  12 (6 variable)\n",
      "initial  value 164.791843 \n",
      "iter  10 value 62.715967\n",
      "iter  20 value 59.808291\n",
      "iter  30 value 55.445984\n",
      "iter  40 value 55.375704\n",
      "iter  50 value 55.346472\n",
      "iter  60 value 55.301707\n",
      "iter  70 value 55.253532\n",
      "iter  80 value 55.243230\n",
      "iter  90 value 55.230241\n",
      "iter 100 value 55.212479\n",
      "iter 110 value 55.202443\n",
      "iter 120 value 55.192705\n",
      "iter 130 value 55.191200\n",
      "iter 140 value 55.191033\n",
      "iter 150 value 55.190191\n",
      "iter 160 value 55.189448\n",
      "iter 170 value 55.188985\n",
      "iter 180 value 55.188556\n",
      "iter 190 value 55.187777\n",
      "iter 200 value 55.187265\n",
      "iter 210 value 55.186957\n",
      "iter 220 value 55.186595\n",
      "final  value 55.185249 \n",
      "converged\n"
     ]
    }
   ],
   "source": [
    "out_iris_mlogit <- multinom(species ~ sepal_length + sepal_width, data = iris,\n",
    "maxit = 1500)"
   ]
  },
  {
   "cell_type": "code",
   "execution_count": 55,
   "metadata": {
    "vscode": {
     "languageId": "r"
    }
   },
   "outputs": [
    {
     "data": {
      "text/plain": [
       "Call:\n",
       "multinom(formula = species ~ sepal_length + sepal_width, data = iris, \n",
       "    maxit = 1500)\n",
       "\n",
       "Coefficients:\n",
       "           (Intercept) sepal_length sepal_width\n",
       "versicolor   -105.7787     41.81093   -37.79796\n",
       "virginica    -118.8205     43.71278   -37.39364\n",
       "\n",
       "Std. Errors:\n",
       "           (Intercept) sepal_length sepal_width\n",
       "versicolor    19.77263     17.56242    41.60040\n",
       "virginica     19.81677     17.55754    41.60719\n",
       "\n",
       "Residual Deviance: 110.3705 \n",
       "AIC: 122.3705 "
      ]
     },
     "metadata": {},
     "output_type": "display_data"
    }
   ],
   "source": [
    "summary(out_iris_mlogit)"
   ]
  },
  {
   "cell_type": "code",
   "execution_count": 56,
   "metadata": {
    "vscode": {
     "languageId": "r"
    }
   },
   "outputs": [
    {
     "data": {
      "text/html": [
       "<table class=\"dataframe\">\n",
       "<caption>A matrix: 4 × 3 of type dbl</caption>\n",
       "<thead>\n",
       "\t<tr><th></th><th scope=col>setosa</th><th scope=col>versicolor</th><th scope=col>virginica</th></tr>\n",
       "</thead>\n",
       "<tbody>\n",
       "\t<tr><th scope=row>1</th><td>1.000000e+00</td><td>9.422496e-09</td><td>6.332977e-10</td></tr>\n",
       "\t<tr><th scope=row>2</th><td>1.927510e-11</td><td>5.834194e-01</td><td>4.165806e-01</td></tr>\n",
       "\t<tr><th scope=row>3</th><td>1.405305e-06</td><td>1.916651e-01</td><td>8.083335e-01</td></tr>\n",
       "\t<tr><th scope=row>4</th><td>1.281222e-10</td><td>7.789050e-01</td><td>2.210950e-01</td></tr>\n",
       "</tbody>\n",
       "</table>\n"
      ],
      "text/latex": [
       "A matrix: 4 × 3 of type dbl\n",
       "\\begin{tabular}{r|lll}\n",
       "  & setosa & versicolor & virginica\\\\\n",
       "\\hline\n",
       "\t1 & 1.000000e+00 & 9.422496e-09 & 6.332977e-10\\\\\n",
       "\t2 & 1.927510e-11 & 5.834194e-01 & 4.165806e-01\\\\\n",
       "\t3 & 1.405305e-06 & 1.916651e-01 & 8.083335e-01\\\\\n",
       "\t4 & 1.281222e-10 & 7.789050e-01 & 2.210950e-01\\\\\n",
       "\\end{tabular}\n"
      ],
      "text/markdown": [
       "\n",
       "A matrix: 4 × 3 of type dbl\n",
       "\n",
       "| <!--/--> | setosa | versicolor | virginica |\n",
       "|---|---|---|---|\n",
       "| 1 | 1.000000e+00 | 9.422496e-09 | 6.332977e-10 |\n",
       "| 2 | 1.927510e-11 | 5.834194e-01 | 4.165806e-01 |\n",
       "| 3 | 1.405305e-06 | 1.916651e-01 | 8.083335e-01 |\n",
       "| 4 | 1.281222e-10 | 7.789050e-01 | 2.210950e-01 |\n",
       "\n"
      ],
      "text/plain": [
       "  setosa       versicolor   virginica   \n",
       "1 1.000000e+00 9.422496e-09 6.332977e-10\n",
       "2 1.927510e-11 5.834194e-01 4.165806e-01\n",
       "3 1.405305e-06 1.916651e-01 8.083335e-01\n",
       "4 1.281222e-10 7.789050e-01 2.210950e-01"
      ]
     },
     "metadata": {},
     "output_type": "display_data"
    }
   ],
   "source": [
    "new_data_iris <- tibble(sepal_length = c(4.8, 6, 6.7, 5.6),\n",
    "                        sepal_width = c(3, 3.2, 4.3, 2.8),\n",
    "                        petal_length = c(1, 3.9, 5.3, 4.5),\n",
    "                        petal_width = c(0.4, 1.4, 2.4, 0.7))\n",
    "out_prob_mlogit_iris <- predict(out_iris_mlogit, newdata = new_data_iris,\n",
    "type = \"probs\")\n",
    "out_prob_mlogit_iris"
   ]
  },
  {
   "cell_type": "code",
   "execution_count": 57,
   "metadata": {
    "vscode": {
     "languageId": "r"
    }
   },
   "outputs": [
    {
     "data": {
      "text/html": [
       "<style>\n",
       ".list-inline {list-style: none; margin:0; padding: 0}\n",
       ".list-inline>li {display: inline-block}\n",
       ".list-inline>li:not(:last-child)::after {content: \"\\00b7\"; padding: 0 .5ex}\n",
       "</style>\n",
       "<ol class=list-inline><li>setosa</li><li>versicolor</li><li>virginica</li><li>versicolor</li></ol>\n",
       "\n",
       "<details>\n",
       "\t<summary style=display:list-item;cursor:pointer>\n",
       "\t\t<strong>Levels</strong>:\n",
       "\t</summary>\n",
       "\t<style>\n",
       "\t.list-inline {list-style: none; margin:0; padding: 0}\n",
       "\t.list-inline>li {display: inline-block}\n",
       "\t.list-inline>li:not(:last-child)::after {content: \"\\00b7\"; padding: 0 .5ex}\n",
       "\t</style>\n",
       "\t<ol class=list-inline><li>'setosa'</li><li>'versicolor'</li><li>'virginica'</li></ol>\n",
       "</details>"
      ],
      "text/latex": [
       "\\begin{enumerate*}\n",
       "\\item setosa\n",
       "\\item versicolor\n",
       "\\item virginica\n",
       "\\item versicolor\n",
       "\\end{enumerate*}\n",
       "\n",
       "\\emph{Levels}: \\begin{enumerate*}\n",
       "\\item 'setosa'\n",
       "\\item 'versicolor'\n",
       "\\item 'virginica'\n",
       "\\end{enumerate*}\n"
      ],
      "text/markdown": [
       "1. setosa\n",
       "2. versicolor\n",
       "3. virginica\n",
       "4. versicolor\n",
       "\n",
       "\n",
       "\n",
       "**Levels**: 1. 'setosa'\n",
       "2. 'versicolor'\n",
       "3. 'virginica'\n",
       "\n",
       "\n"
      ],
      "text/plain": [
       "[1] setosa     versicolor virginica  versicolor\n",
       "Levels: setosa versicolor virginica"
      ]
     },
     "metadata": {},
     "output_type": "display_data"
    }
   ],
   "source": [
    "out_class_mlogit_iris <- predict(out_iris_mlogit, newdata = new_data_iris,\n",
    "                                type = \"class\")\n",
    "out_class_mlogit_iris"
   ]
  },
  {
   "cell_type": "markdown",
   "metadata": {},
   "source": [
    "### Thực hành 6:\n",
    "\n",
    "Xây dựng mô hình phân loại loài hoa iris bằng Naive Bayes, LDA và QDA, sử dụng hai biến như trong ví dụ, và so sánh với kết quả tiên đoán."
   ]
  },
  {
   "cell_type": "code",
   "execution_count": 58,
   "metadata": {
    "vscode": {
     "languageId": "r"
    }
   },
   "outputs": [
    {
     "name": "stdout",
     "output_type": "stream",
     "text": [
      "[1] \"NB:\"\n",
      "       setosa versicolor  virginica\n",
      "1 0.866877931 0.10887699 0.02424508\n",
      "2 0.023430528 0.47911633 0.49745314\n",
      "3 0.004913586 0.01362033 0.98146608\n",
      "4 0.068540973 0.74304334 0.18841568\n",
      "[1] \"LDA:\"\n",
      "       setosa  versicolor    virginica\n",
      "1 0.980958325 0.018618011 0.0004236647\n",
      "2 0.037873292 0.656934739 0.3051919686\n",
      "3 0.976338242 0.007815111 0.0158466463\n",
      "4 0.008974751 0.834700742 0.1563245073\n",
      "[1] \"QDA:\"\n",
      "        setosa versicolor  virginica\n",
      "1 9.844493e-01 0.00976027 0.00579039\n",
      "2 1.666116e-05 0.57960580 0.42037754\n",
      "3 7.925197e-02 0.09779146 0.82295657\n",
      "4 3.226889e-05 0.76160578 0.23836195\n"
     ]
    }
   ],
   "source": [
    "out_md_NB <- NaiveBayes(formula = species ~ sepal_length + sepal_width, data = iris)\n",
    "out_md_lda <- lda(formula = species ~ sepal_length + sepal_width, data = iris)\n",
    "out_md_qda <- qda(formula = species ~ sepal_length + sepal_width, data = iris)\n",
    "\n",
    "new_data_iris <- tibble(sepal_length = c(4.8, 6, 6.7, 5.6),\n",
    "                        sepal_width = c(3, 3.2, 4.3, 2.8),\n",
    "                        petal_length = c(1, 3.9, 5.3, 4.5),\n",
    "                        petal_width = c(0.4, 1.4, 2.4, 0.7))\n",
    "\n",
    "NB_predictions <- as.data.frame(predict(out_md_NB, newdata = new_data_iris)$posterior)\n",
    "LDA_predictions <- as.data.frame(predict(out_md_lda, newdata = new_data_iris)$posterior)\n",
    "QDA_predictions <- as.data.frame(predict(out_md_qda, newdata = new_data_iris)$posterior)\n",
    "\n",
    "print(\"NB:\")\n",
    "print(NB_predictions)\n",
    "print(\"LDA:\")\n",
    "print(LDA_predictions)\n",
    "print(\"QDA:\")\n",
    "print(QDA_predictions)"
   ]
  },
  {
   "cell_type": "markdown",
   "metadata": {},
   "source": [
    "### Thực hành 7:\n",
    "\n",
    "Xây dựng mô hình phân loại loài hoa iris bằng multinomial logistic model, Naive Bayes, LDA và QDA, sử dụng hai biến còn lại và cả 4 biến; và so sánh với kết quả tiên đoán."
   ]
  },
  {
   "cell_type": "code",
   "execution_count": 60,
   "metadata": {
    "vscode": {
     "languageId": "r"
    }
   },
   "outputs": [
    {
     "name": "stdout",
     "output_type": "stream",
     "text": [
      "# weights:  18 (10 variable)\n",
      "initial  value 164.791843 \n",
      "iter  10 value 16.177348\n",
      "iter  20 value 7.111438\n",
      "iter  30 value 6.182999\n",
      "iter  40 value 5.984028\n",
      "iter  50 value 5.961278\n",
      "iter  60 value 5.954900\n",
      "iter  70 value 5.951851\n",
      "iter  80 value 5.950343\n",
      "iter  90 value 5.949904\n",
      "iter 100 value 5.949867\n",
      "iter 110 value 5.949850\n",
      "iter 120 value 5.949821\n",
      "iter 130 value 5.949767\n",
      "iter 140 value 5.949743\n",
      "iter 150 value 5.949722\n",
      "iter 160 value 5.949686\n",
      "iter 170 value 5.949424\n",
      "iter 180 value 5.949393\n",
      "final  value 5.949363 \n",
      "converged\n"
     ]
    },
    {
     "name": "stdout",
     "output_type": "stream",
     "text": [
      "[1] \"Logistic:\"\n",
      "  predict(out_md_logistic, newdata = new_data_iris, type = \"class\")\n",
      "1                                                            setosa\n",
      "2                                                        versicolor\n",
      "3                                                         virginica\n",
      "4                                                        versicolor\n",
      "[1] \"NB:\"\n",
      "         setosa   versicolor    virginica\n",
      "1  1.000000e+00 1.518639e-15 1.399202e-23\n",
      "2  5.234287e-70 9.992280e-01 7.719766e-04\n",
      "3 1.956280e-198 2.158392e-09 1.000000e+00\n",
      "4  2.635609e-69 9.999625e-01 3.747166e-05\n",
      "[1] \"LDA:\"\n",
      "        setosa   versicolor    virginica\n",
      "1 1.000000e+00 3.233117e-19 2.848747e-38\n",
      "2 2.548169e-14 9.999932e-01 6.781498e-06\n",
      "3 9.855819e-31 6.629787e-04 9.993370e-01\n",
      "4 6.026724e-17 9.999997e-01 3.171687e-07\n",
      "[1] \"QDA:\"\n",
      "         setosa   versicolor    virginica\n",
      "1  1.000000e+00 4.559575e-18 5.044014e-35\n",
      "2  5.962146e-56 9.999871e-01 1.290428e-05\n",
      "3 2.015739e-147 4.694850e-05 9.999531e-01\n",
      "4  6.550298e-65 2.317529e-04 9.997682e-01\n"
     ]
    }
   ],
   "source": [
    "out_md_logistic <- multinom(species ~ ., data=iris, maxit=1500)\n",
    "out_md_NB <- NaiveBayes(species ~ ., data=iris)\n",
    "out_md_lda <- lda(species ~ ., data=iris)\n",
    "out_md_qda <- qda(species ~ ., data=iris)\n",
    "\n",
    "new_data_iris <- tibble(sepal_length = c(4.8, 6, 6.7, 5.6),\n",
    "                        sepal_width = c(3, 3.2, 4.3, 2.8),\n",
    "                        petal_length = c(1, 3.9, 5.3, 4.5),\n",
    "                        petal_width = c(0.4, 1.4, 2.4, 0.7))\n",
    "\n",
    "LG_predictions <- as.data.frame(predict(out_md_logistic, newdata=new_data_iris, type = \"class\"))\n",
    "NB_predictions <- as.data.frame(predict(out_md_NB, newdata = new_data_iris)$posterior)\n",
    "LDA_predictions <- as.data.frame(predict(out_md_lda, newdata = new_data_iris)$posterior)\n",
    "QDA_predictions <- as.data.frame(predict(out_md_qda, newdata = new_data_iris)$posterior)\n",
    "\n",
    "print(\"Logistic:\")\n",
    "print(LG_predictions)\n",
    "print(\"NB:\")\n",
    "print(NB_predictions)\n",
    "print(\"LDA:\")\n",
    "print(LDA_predictions)\n",
    "print(\"QDA:\")\n",
    "print(QDA_predictions)"
   ]
  },
  {
   "cell_type": "markdown",
   "metadata": {},
   "source": [
    "## 7. Đánh giá mô hình phân loại\n",
    "\n",
    "Cú pháp:\n",
    "\n",
    "```r\n",
    "library(pROC)\n",
    "out_roc <- roc(SAheart$chd ~ prob_pred_dt)\n",
    "\n",
    "out_roc$auc\n",
    "```"
   ]
  },
  {
   "cell_type": "code",
   "execution_count": 65,
   "metadata": {
    "vscode": {
     "languageId": "r"
    }
   },
   "outputs": [
    {
     "ename": "ERROR",
     "evalue": "Error in eval(predvars, data, env): object 'prob_pred_dt' not found\n",
     "output_type": "error",
     "traceback": [
      "Error in eval(predvars, data, env): object 'prob_pred_dt' not found\nTraceback:\n",
      "1. roc(SAheart$chd ~ prob_pred_dt)",
      "2. roc.formula(SAheart$chd ~ prob_pred_dt)",
      "3. roc_utils_extract_formula(formula, data, ..., data.missing = data.missing, \n .     call = match.call())",
      "4. tryCatch({\n .     eval.parent(temp, n = 2)\n . }, error = function(cond) {\n .     frames <- sys.frames()\n .     for (frame in frames[(length(frames) - 7):1]) {\n .         temp$data <- frame\n .         for (n in 5:9) {\n .             try({\n .                 return(eval.parent(temp, n = n))\n .             }, silent = TRUE)\n .         }\n .     }\n .     stop(cond)\n . })",
      "5. tryCatchList(expr, classes, parentenv, handlers)",
      "6. tryCatchOne(expr, names, parentenv, handlers[[1L]])",
      "7. value[[3L]](cond)"
     ]
    }
   ],
   "source": [
    "out_roc <- roc(SAheart$chd ~ prob_pred_dt)"
   ]
  },
  {
   "cell_type": "code",
   "execution_count": null,
   "metadata": {
    "vscode": {
     "languageId": "r"
    }
   },
   "outputs": [],
   "source": [
    "out_roc$auc"
   ]
  },
  {
   "cell_type": "code",
   "execution_count": 62,
   "metadata": {
    "vscode": {
     "languageId": "r"
    }
   },
   "outputs": [
    {
     "ename": "ERROR",
     "evalue": "Error in ci.auc(out_roc, conf.level = 0.95): object 'out_roc' not found\n",
     "output_type": "error",
     "traceback": [
      "Error in ci.auc(out_roc, conf.level = 0.95): object 'out_roc' not found\nTraceback:\n",
      "1. ci.auc(out_roc, conf.level = 0.95)"
     ]
    }
   ],
   "source": [
    "ci.auc(out_roc, conf.level = 0.95)"
   ]
  }
 ],
 "metadata": {
  "kernelspec": {
   "display_name": "R",
   "language": "R",
   "name": "ir"
  },
  "language_info": {
   "codemirror_mode": "r",
   "file_extension": ".r",
   "mimetype": "text/x-r-source",
   "name": "R",
   "pygments_lexer": "r",
   "version": "4.1.3"
  }
 },
 "nbformat": 4,
 "nbformat_minor": 2
}
