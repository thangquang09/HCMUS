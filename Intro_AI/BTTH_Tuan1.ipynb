{
 "cells": [
  {
   "cell_type": "markdown",
   "metadata": {},
   "source": [
    "# BÀI TẬP THỰC HÀNH TUẦN 1 NHẬP MÔN TRÍ TUỆ NHÂN TẠO"
   ]
  },
  {
   "cell_type": "markdown",
   "metadata": {},
   "source": [
    "### 1. Cài đặt và thực thi chương trình. Nếu chương trình bị báo lỗi thì lỗi ở dòng nào và sửa lại thể nào?"
   ]
  },
  {
   "cell_type": "code",
   "execution_count": 39,
   "metadata": {},
   "outputs": [],
   "source": [
    "from collections import defaultdict\n",
    "from queue import Queue, PriorityQueue\n",
    "\n",
    "# đọc dữ liệu từ file txt\n",
    "def read_txt(file):\n",
    "    size = int(file.readline())\n",
    "    start, goal = [int(num) for num in file.readline().split(' ')]\n",
    "    matrix = [[int(num) for num in line.split(' ')] for line in file]\n",
    "    return size, start, goal, matrix\n",
    "\n",
    "# chuyển ma trận kề về danh sách kề\n",
    "def convert_graph(a):\n",
    "    adjList = defaultdict(list)\n",
    "    for i in range(len(a)):\n",
    "        for j in range(len(a[i])):\n",
    "            if a[i][j] == 1:\n",
    "                adjList[i].append(j)\n",
    "    return adjList\n",
    "\n",
    "def convert_graph_weight(a):\n",
    "    adjList = defaultdict(list)\n",
    "    for i in range(len(a)):\n",
    "        for j in range(len(a[i])):\n",
    "            if a[i][j] != 0:\n",
    "                adjList[i].append((j, a[i][j]))\n",
    "    return adjList"
   ]
  },
  {
   "cell_type": "markdown",
   "metadata": {},
   "source": [
    "#### 1.1. Thuật toán BFS"
   ]
  },
  {
   "cell_type": "code",
   "execution_count": 40,
   "metadata": {},
   "outputs": [],
   "source": [
    "def BFS(graph, start, end):\n",
    "\n",
    "    visited = []\n",
    "    frontier = Queue()\n",
    "\n",
    "    # thêm node vào frontier và visited\n",
    "    frontier.put(start)\n",
    "    visited.append(start) # không cần thiết (sẽ viết rõ trong báo cáo)\n",
    "\n",
    "    # start không có node cha\n",
    "    parent = dict()\n",
    "    parent[start] = None\n",
    "\n",
    "    path_found = False\n",
    "\n",
    "    while True:\n",
    "        if frontier.empty():\n",
    "            raise Exception(\"No way Exception\")\n",
    "        current_node = frontier.get()\n",
    "        visited.append(current_node)\n",
    "\n",
    "        # Kiểm tra current_node có phải end hay không\n",
    "        if current_node == end:\n",
    "            path_found = True\n",
    "            break\n",
    "\n",
    "        for node in graph[current_node]:\n",
    "            if node not in visited:\n",
    "                frontier.put(node)\n",
    "                parent[node] = current_node\n",
    "                visited.append(node) # sai logic khi append vào đây (sẽ viết rõ trong báo cáo)\n",
    "                \n",
    "\n",
    "    # Xây dựng đường đi\n",
    "    path = []\n",
    "    if path_found:\n",
    "        path.append(end)\n",
    "        while parent[end] is not None:\n",
    "            path.append(parent[end])\n",
    "            end = parent[end]\n",
    "        path.reverse()\n",
    "    return path"
   ]
  },
  {
   "cell_type": "markdown",
   "metadata": {},
   "source": [
    "#### 1.2. Thuật toán DFS"
   ]
  },
  {
   "cell_type": "code",
   "execution_count": 41,
   "metadata": {},
   "outputs": [],
   "source": [
    "def DFS(graph, start, end):\n",
    "    visited = []\n",
    "    frontier = [] # list for stack\n",
    "\n",
    "    # thêm node start vào frontier và visited\n",
    "    frontier.append(start)\n",
    "    visited.append(start) # không cần thiết (sẽ viết rõ trong báo cáo)\n",
    "\n",
    "    # start không có node cha\n",
    "    parent = dict()\n",
    "    parent[start] = None\n",
    "\n",
    "    path_found = False\n",
    "\n",
    "    while True:\n",
    "        if frontier == []:\n",
    "            raise Exception(\"No way Exception\")\n",
    "        current_node = frontier.pop()\n",
    "        visited.append(current_node)\n",
    "\n",
    "        # Kiểm tra xem current node có phải end không\n",
    "        if current_node == end:\n",
    "            path_found = True\n",
    "            break\n",
    "        \n",
    "        for node in graph[current_node]:\n",
    "            if node not in visited:\n",
    "                frontier.append(node)\n",
    "                parent[node] = current_node\n",
    "                visited.append(node) # sai logic khi append vào đây (sẽ viết rõ trong báo cáo)\n",
    "\n",
    "    # xây dựng đường đi\n",
    "    path = []\n",
    "    if path_found:\n",
    "        path.append(end)\n",
    "        while parent[end] is not None:\n",
    "            path.append(parent[end])\n",
    "            end = parent[end]\n",
    "        path.reverse()\n",
    "    return path"
   ]
  },
  {
   "cell_type": "markdown",
   "metadata": {},
   "source": [
    "#### 1.3. Thuật toán UCS"
   ]
  },
  {
   "cell_type": "code",
   "execution_count": 42,
   "metadata": {},
   "outputs": [],
   "source": [
    "def UCS(graph, start, end):\n",
    "\n",
    "    visited = []\n",
    "    frontier = PriorityQueue()\n",
    "    # thêm node start vào frontier và visited\n",
    "    frontier.put((0, start))\n",
    "    visited.append(start) # không cần thiết (sẽ viết rõ trong báo cáo)\n",
    "    # start không có node cha\n",
    "    parent = dict()\n",
    "    parent[start] = None\n",
    "    path_found = False\n",
    "\n",
    "    while True:\n",
    "        if frontier.empty():\n",
    "            raise Exception(\"No way Exception\")\n",
    "        current_w, current_node = frontier.get()\n",
    "        visited.append(current_node)\n",
    "\n",
    "        # Kiểm tra xem current node phải end không\n",
    "        if current_node == end:\n",
    "            path_found = True\n",
    "            break\n",
    "        \n",
    "        for nodei in graph[current_node]:\n",
    "            node, weight = nodei\n",
    "            if node not in visited:\n",
    "                frontier.put((current_w + weight, node))\n",
    "                parent[node] = current_node\n",
    "                visited.append(node) # không nên append vào visited ở đây\n",
    "\n",
    "    # Xây dựng đường đi\n",
    "    path = []\n",
    "    if path_found:\n",
    "        path.append(end)\n",
    "        while parent[end] is not None:\n",
    "            path.append(parent[end])\n",
    "            end = parent[end]\n",
    "        path.reverse()\n",
    "    return current_w, path"
   ]
  },
  {
   "cell_type": "markdown",
   "metadata": {},
   "source": [
    "#### 1.4. Thực thi chương trình"
   ]
  },
  {
   "cell_type": "code",
   "execution_count": 43,
   "metadata": {},
   "outputs": [
    {
     "name": "stdout",
     "output_type": "stream",
     "text": [
      "Kết quả sử dụng thuật toán BFS: \n",
      " [0, 2, 7, 8, 10, 14, 15, 16, 17]\n",
      "Kết quả sử dụng thuật toán DFS: \n",
      " [0, 3, 4, 13, 10, 14, 15, 16, 17]\n",
      "Kết quả sử dụng thuật toán UCS: \n",
      " [0, 2, 7, 8, 10, 14, 15, 16, 17] với tổng chi phí là 6910\n"
     ]
    }
   ],
   "source": [
    "# đọc file Input.txt và InputUCS.txt\n",
    "file1 = open(\"Input.txt\", \"r\")\n",
    "file2 = open(\"InputUCS.txt\", \"r\")\n",
    "\n",
    "size_1, start_1, goal_1, matrix_1 = read_txt(file1)\n",
    "size_2, start_2, goal_2, matrix_2 = read_txt(file2)\n",
    "\n",
    "file1.close()\n",
    "file2.close()\n",
    "\n",
    "graph_1 = convert_graph(matrix_1)\n",
    "graph_2 = convert_graph_weight(matrix_2)\n",
    "\n",
    "result_bfs = BFS(start=start_1, end=goal_1, graph=graph_1)\n",
    "result_dfs = DFS(start=start_1, end=goal_1, graph=graph_1)\n",
    "cost, result_ucs = UCS(start=start_2, end=goal_2, graph=graph_2)\n",
    "print(\"Kết quả sử dụng thuật toán BFS: \\n\", result_bfs)   \n",
    "print(\"Kết quả sử dụng thuật toán DFS: \\n\", result_dfs)\n",
    "print(\"Kết quả sử dụng thuật toán UCS: \\n\", result_ucs, \"với tổng chi phí là\", cost)"
   ]
  },
  {
   "cell_type": "markdown",
   "metadata": {},
   "source": [
    "### 2. Nhận xét\n",
    "\n",
    "Chương trình cô cung cấp chạy không có lỗi gì, và chạy khá tốt nhưng về mặt đúng đắn của thuật toán thì có nhiều điểm chưa đúng. Sau đây sẽ là ví dụ về lỗi sai trong code ban đầu, từ đây cô hãy đọc báo cáo để theo dõi"
   ]
  },
  {
   "cell_type": "markdown",
   "metadata": {},
   "source": [
    "### 3. Ví dụ thuật toán có vấn đề"
   ]
  },
  {
   "cell_type": "markdown",
   "metadata": {},
   "source": [
    "##### Ví dụ 2.3.1. về phần sai lệch kết quả trong Uniform Cost Search"
   ]
  },
  {
   "cell_type": "code",
   "execution_count": 44,
   "metadata": {},
   "outputs": [
    {
     "name": "stdout",
     "output_type": "stream",
     "text": [
      "Chi phí tiêu tốn: 5\n",
      "Đường đi ['A', 'B', 'D']\n"
     ]
    }
   ],
   "source": [
    "graph_3 = {\n",
    "    'A': [('B', 1), ('C', 5)],\n",
    "    'B': [('C', 1), ('D', 4)],\n",
    "    'C': [('D', 1)],\n",
    "    'D': []\n",
    "}\n",
    "\n",
    "cost, path = UCS(start='A', end='D', graph=graph_3)\n",
    "print(\"Chi phí tiêu tốn:\", cost)\n",
    "print(\"Đường đi\", path) # kết quả nên là A -> B -> C -> D với chi phí = 3"
   ]
  },
  {
   "cell_type": "markdown",
   "metadata": {},
   "source": [
    "### 4. Sửa CODE"
   ]
  },
  {
   "cell_type": "code",
   "execution_count": 45,
   "metadata": {},
   "outputs": [],
   "source": [
    "def fixed_BFS(graph, start, end):\n",
    "    visited = []\n",
    "    frontier = Queue()\n",
    "\n",
    "    # thêm node vào frontier\n",
    "    frontier.put(start)\n",
    "\n",
    "    # start không có node cha\n",
    "    parent = dict()\n",
    "    parent[start] = None\n",
    "\n",
    "    path_found = False\n",
    "\n",
    "    while not frontier.empty():\n",
    "        current_node = frontier.get()\n",
    "        visited.append(current_node)\n",
    "\n",
    "        # Kiểm tra current_node có phải end hay không\n",
    "        if current_node == end:\n",
    "            path_found = True\n",
    "            break\n",
    "\n",
    "        for node in graph[current_node]:\n",
    "            if node not in visited and node not in frontier.queue:  # Kiểm tra nếu node chưa được thêm vào frontier\n",
    "                frontier.put(node)\n",
    "                parent[node] = current_node\n",
    "\n",
    "    # Xây dựng đường đi\n",
    "    path = []\n",
    "    if path_found:\n",
    "        path.append(end)\n",
    "        while parent[end] is not None:\n",
    "            path.append(parent[end])\n",
    "            end = parent[end]\n",
    "        path.reverse()\n",
    "    else:\n",
    "        raise Exception(\"No path found\")\n",
    "\n",
    "    return path"
   ]
  },
  {
   "cell_type": "code",
   "execution_count": 46,
   "metadata": {},
   "outputs": [],
   "source": [
    "def fixed_DFS(graph, start, end):\n",
    "    visited = []\n",
    "    frontier = []  # List dùng như stack\n",
    "\n",
    "    # thêm node start vào frontier\n",
    "    frontier.append(start)\n",
    "\n",
    "    # start không có node cha\n",
    "    parent = dict()\n",
    "    parent[start] = None\n",
    "\n",
    "    path_found = False\n",
    "\n",
    "    while frontier:  # Điều kiện thoát hợp lý\n",
    "        current_node = frontier.pop()\n",
    "        visited.append(current_node)\n",
    "\n",
    "        # Kiểm tra xem current_node có phải end hay không\n",
    "        if current_node == end:\n",
    "            path_found = True\n",
    "            break\n",
    "\n",
    "        for node in graph[current_node]:\n",
    "            if node not in visited and node not in frontier:  # Kiểm tra nếu node chưa được thêm vào frontier\n",
    "                frontier.append(node)\n",
    "                parent[node] = current_node\n",
    "\n",
    "    # Xây dựng đường đi\n",
    "    path = []\n",
    "    if path_found:\n",
    "        path.append(end)\n",
    "        while parent[end] is not None:\n",
    "            path.append(parent[end])\n",
    "            end = parent[end]\n",
    "        path.reverse()\n",
    "    else:\n",
    "        raise Exception(\"No path found\")\n",
    "\n",
    "    return path"
   ]
  },
  {
   "cell_type": "code",
   "execution_count": 47,
   "metadata": {},
   "outputs": [],
   "source": [
    "def fixed_UCS(graph, start, end):\n",
    "    visited = []\n",
    "    frontier = PriorityQueue()\n",
    "    frontier.put((0, start))  # Thêm node start với chi phí 0\n",
    "\n",
    "    parent = dict()\n",
    "    parent[start] = None\n",
    "\n",
    "    # Khởi tạo biến cost để theo dõi chi phí đến mỗi node\n",
    "    cost = dict()\n",
    "    cost[start] = 0\n",
    "\n",
    "    path_found = False\n",
    "\n",
    "    while not frontier.empty():\n",
    "        current_w, current_node = frontier.get()\n",
    "        visited.append(current_node)\n",
    "\n",
    "        # Kiểm tra xem current_node có phải là end không\n",
    "        if current_node == end:\n",
    "            path_found = True\n",
    "            break\n",
    "\n",
    "        for nodei in graph[current_node]:\n",
    "            node, weight = nodei\n",
    "            new_cost = current_w + weight\n",
    "\n",
    "            # Nếu node chưa được thăm hoặc tìm thấy đường đi rẻ hơn\n",
    "            if node not in visited and (node not in cost or new_cost < cost[node]):\n",
    "                cost[node] = new_cost\n",
    "                frontier.put((new_cost, node))\n",
    "                parent[node] = current_node\n",
    "                \n",
    "    # Xây dựng đường đi\n",
    "    path = []\n",
    "    if path_found:\n",
    "        path.append(end)\n",
    "        while parent[end] is not None:\n",
    "            path.append(parent[end])\n",
    "            end = parent[end]\n",
    "        path.reverse()\n",
    "    else:\n",
    "        raise Exception(\"No path found\")\n",
    "\n",
    "    return cost[current_node], path"
   ]
  }
 ],
 "metadata": {
  "kernelspec": {
   "display_name": "Python 3",
   "language": "python",
   "name": "python3"
  },
  "language_info": {
   "codemirror_mode": {
    "name": "ipython",
    "version": 3
   },
   "file_extension": ".py",
   "mimetype": "text/x-python",
   "name": "python",
   "nbconvert_exporter": "python",
   "pygments_lexer": "ipython3",
   "version": "3.10.12"
  }
 },
 "nbformat": 4,
 "nbformat_minor": 2
}
