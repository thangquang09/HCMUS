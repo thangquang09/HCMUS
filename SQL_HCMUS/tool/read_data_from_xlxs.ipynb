{
 "cells": [
  {
   "cell_type": "code",
   "execution_count": 8,
   "metadata": {},
   "outputs": [],
   "source": [
    "import pandas as pd\n",
    "import numpy as np"
   ]
  },
  {
   "cell_type": "code",
   "execution_count": 9,
   "metadata": {},
   "outputs": [
    {
     "name": "stderr",
     "output_type": "stream",
     "text": [
      "/tmp/ipykernel_144424/3402752222.py:5: FutureWarning: Setting an item of incompatible dtype is deprecated and will raise an error in a future version of pandas. Value 'NULL' has dtype incompatible with float64, please explicitly cast to a compatible dtype first.\n",
      "  data.fillna('NULL',inplace=True)\n",
      "/tmp/ipykernel_144424/3402752222.py:24: FutureWarning: Series.__getitem__ treating keys as positions is deprecated. In a future version, integer keys will always be treated as labels (consistent with DataFrame behavior). To access a value by position, use `ser.iloc[pos]`\n",
      "  SQL_insert_script += solve_data(row[j])\n"
     ]
    }
   ],
   "source": [
    "sheet_name = 'NHACUNGCAP'\n",
    "\n",
    "data = pd.read_excel('../lab/Đơn đặt hàng - Dữ liệu.xlsx', sheet_name=sheet_name)\n",
    "\n",
    "data.fillna('NULL',inplace=True)\n",
    "def solve_data(data):\n",
    "    if type(data) == str:\n",
    "        if data == 'NULL':\n",
    "            return 'NULL'\n",
    "        else:\n",
    "            data = data.replace(\"'\", \"''\")\n",
    "            return f\"'{data}'\"\n",
    "    elif isinstance(data, np.int64) or isinstance(data, np.float64):\n",
    "        return f\"{data}\"\n",
    "    else:\n",
    "        return f\"'{data}'\"\n",
    "    \n",
    "    \n",
    "SQL_insert_script = f'insert into {sheet_name} values \\n'\n",
    "for i in range(data.shape[0]):\n",
    "    row = data.iloc[i]\n",
    "    SQL_insert_script += \"(\"\n",
    "    for j in range(data.shape[1]):\n",
    "        SQL_insert_script += solve_data(row[j])\n",
    "        if j != data.shape[1] - 1:\n",
    "            SQL_insert_script += ', '\n",
    "    SQL_insert_script += '),\\n'\n",
    "SQL_insert_script = SQL_insert_script[:-2] + ';'\n",
    "# export sql script to txt file\n",
    "with open('output.txt', 'w') as f:\n",
    "    f.write(SQL_insert_script)\n",
    "    f.close()\n"
   ]
  },
  {
   "cell_type": "code",
   "execution_count": null,
   "metadata": {},
   "outputs": [],
   "source": []
  }
 ],
 "metadata": {
  "kernelspec": {
   "display_name": "Python 3",
   "language": "python",
   "name": "python3"
  },
  "language_info": {
   "codemirror_mode": {
    "name": "ipython",
    "version": 3
   },
   "file_extension": ".py",
   "mimetype": "text/x-python",
   "name": "python",
   "nbconvert_exporter": "python",
   "pygments_lexer": "ipython3",
   "version": "3.11.6"
  }
 },
 "nbformat": 4,
 "nbformat_minor": 2
}
