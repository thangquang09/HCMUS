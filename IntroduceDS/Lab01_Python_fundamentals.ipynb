{
  "cells": [
    {
      "cell_type": "markdown",
      "metadata": {
        "id": "q23vSTg18BZM"
      },
      "source": [
        "# Introduction to Data Science - 22KDL\n",
        "## Lab01: Python fundamentals:\n"
      ]
    },
    {
      "cell_type": "markdown",
      "metadata": {
        "id": "T9jEKhg1JbaJ"
      },
      "source": [
        "## Preliminaries\n",
        "Taking user input from the keyboard in Python:"
      ]
    },
    {
      "cell_type": "code",
      "execution_count": 1,
      "metadata": {
        "colab": {
          "base_uri": "https://localhost:8080/"
        },
        "id": "eL84CH7_KPrU",
        "outputId": "95868a05-48a8-4491-8c80-8f793fbae243"
      },
      "outputs": [
        {
          "name": "stdout",
          "output_type": "stream",
          "text": [
            "Thang\n"
          ]
        }
      ],
      "source": [
        "# Execute this cell and then type your name inside the box\n",
        "name = input(\"Please enter your name: \")\n",
        "print(name)"
      ]
    },
    {
      "cell_type": "markdown",
      "metadata": {
        "id": "UqKzvlN2LzZ0"
      },
      "source": [
        "*Note* that everything from the user's keyboard input will be considered as a string. If you want to input an integer (same as float, etc), let's use `int()` to convert it into a correspoinding data type."
      ]
    },
    {
      "cell_type": "markdown",
      "metadata": {
        "id": "Hv6nWa66KtDM"
      },
      "source": [
        "## Exercises"
      ]
    },
    {
      "cell_type": "markdown",
      "metadata": {
        "id": "9mtZxwGw8ZHo"
      },
      "source": [
        "### Variable Exercises:\n",
        "**Q1:** Write a program that asks the user for their name and age, then prints out a message that says \"Hello `[name]`, you are `[age]` years old!\"\n",
        "Write a program that takes a user input number and prints out whether the number is odd or even."
      ]
    },
    {
      "cell_type": "code",
      "execution_count": 2,
      "metadata": {
        "id": "PkAEFuJQtJeS"
      },
      "outputs": [
        {
          "name": "stdout",
          "output_type": "stream",
          "text": [
            "Hello Thang you are 19 years old\n"
          ]
        }
      ],
      "source": [
        "# Your code starts here\n",
        "# ...\n",
        "\n",
        "name = input(\"Please enter your name: \")\n",
        "age = int(input(\"Please enter your age: \"))\n",
        "print(\"Hello\", name, \"you are\", age, \"years old\")"
      ]
    },
    {
      "cell_type": "markdown",
      "metadata": {
        "id": "BpocBEVV9HBv"
      },
      "source": [
        "\n",
        "**Q2:** Write a program that takes a user input number and prints out whether the number is odd or even."
      ]
    },
    {
      "cell_type": "code",
      "execution_count": 3,
      "metadata": {
        "id": "DFVcRPpK9HVz"
      },
      "outputs": [
        {
          "name": "stdout",
          "output_type": "stream",
          "text": [
            "4 is even\n"
          ]
        }
      ],
      "source": [
        "# Your code starts here\n",
        "# ...\n",
        "usr_number = int(input(\"Please enter a number: \"))\n",
        "if usr_number % 2 == 0:\n",
        "    print(f\"{usr_number} is even\")\n",
        "else:\n",
        "    print(f\"{usr_number} is odd\")"
      ]
    },
    {
      "cell_type": "markdown",
      "metadata": {
        "id": "yqvc5Ja49cSK"
      },
      "source": [
        "### Loop Exercises:\n",
        "**Q3:** Write a program that prints out the numbers from 1 to 10 using a for loop."
      ]
    },
    {
      "cell_type": "code",
      "execution_count": 4,
      "metadata": {
        "id": "kD-3iVGZ9k9q"
      },
      "outputs": [
        {
          "name": "stdout",
          "output_type": "stream",
          "text": [
            "1\n",
            "2\n",
            "3\n",
            "4\n",
            "5\n",
            "6\n",
            "7\n",
            "8\n",
            "9\n",
            "10\n"
          ]
        }
      ],
      "source": [
        "# Your code starts from here\n",
        "# ...\n",
        "\n",
        "for i in range(1,11):\n",
        "    print(i)"
      ]
    },
    {
      "cell_type": "markdown",
      "metadata": {
        "id": "Nmvi45ry9mah"
      },
      "source": [
        "**Q4:** Write a program that asks the user to input a number, then prints out all the even numbers between 0 and the user input number using a while loop."
      ]
    },
    {
      "cell_type": "code",
      "execution_count": 5,
      "metadata": {
        "id": "7eWg6Tb39q5k"
      },
      "outputs": [
        {
          "name": "stdout",
          "output_type": "stream",
          "text": [
            "0\n",
            "2\n",
            "4\n",
            "6\n"
          ]
        }
      ],
      "source": [
        "# Your code starts from here\n",
        "...\n",
        "usr_number = int(input(\"Please enter a number: \"))\n",
        "for i in range(0, usr_number):\n",
        "    if i % 2 == 0:\n",
        "        print(i)\n"
      ]
    },
    {
      "cell_type": "markdown",
      "metadata": {
        "id": "SLkSRDHs_XvQ"
      },
      "source": [
        "### List Exercises:\n",
        "**Q5:** Write a program that takes the last 5 elements of a list `numbers`"
      ]
    },
    {
      "cell_type": "code",
      "execution_count": 6,
      "metadata": {
        "id": "x4A2CEal_sW8"
      },
      "outputs": [
        {
          "name": "stdout",
          "output_type": "stream",
          "text": [
            "[8, 9, -5, 11, 20]\n"
          ]
        }
      ],
      "source": [
        "numbers = [5, 1, 7, 7, 8, 10, -2, 6, 8, 9, -5, 11, 20]\n",
        "\n",
        "# Your code starts from here:\n",
        "# ...\n",
        "print(numbers[-5:])"
      ]
    },
    {
      "cell_type": "markdown",
      "metadata": {
        "id": "Jtj9oyRe-cjV"
      },
      "source": [
        "**Q6:** Write a program that takes a list of `numbers` from 1 to 10 and returns a new list containing only the even numbers. (Recommend to use list comprehension)"
      ]
    },
    {
      "cell_type": "code",
      "execution_count": 7,
      "metadata": {
        "id": "zgie8u2_-1BJ"
      },
      "outputs": [
        {
          "data": {
            "text/plain": [
              "[2, 4, 6, 8, 10]"
            ]
          },
          "execution_count": 7,
          "metadata": {},
          "output_type": "execute_result"
        }
      ],
      "source": [
        "numbers = range(1, 11) # your code is here\n",
        "even_numbers = list(filter(lambda x: x % 2 == 0, numbers))\n",
        "even_numbers"
      ]
    },
    {
      "cell_type": "markdown",
      "metadata": {
        "id": "cb0mKps4BnSW"
      },
      "source": [
        "### Dictionary Exercises:\n",
        "**Q7:** Write a program that takes a dictionary of names and ages and returns a new dictionary containing only the names of people who are over 18 years old."
      ]
    },
    {
      "cell_type": "code",
      "execution_count": 8,
      "metadata": {
        "id": "uyRz6j1kB-5S"
      },
      "outputs": [
        {
          "data": {
            "text/plain": [
              "{'John': 19, 'James': 30, 'Lisa': 19, 'Jennie': 20}"
            ]
          },
          "execution_count": 8,
          "metadata": {},
          "output_type": "execute_result"
        }
      ],
      "source": [
        "name_to_age = {'John': 19,\n",
        "                'Tom': 15,\n",
        "                'James': 30,\n",
        "                'Danny': 18,\n",
        "                'Lisa': 19,\n",
        "                'Rose': 17,\n",
        "                'Jisoo': 16,\n",
        "                'Jennie': 20}\n",
        "\n",
        "# Your code starts from here\n",
        "# ...\n",
        "res = dict(filter(lambda x : x[1] > 18, name_to_age.items()))\n",
        "res"
      ]
    },
    {
      "cell_type": "markdown",
      "metadata": {
        "id": "o4nZs67W9rj6"
      },
      "source": [
        "### Function Exercises:\n",
        "**Q8:** Write a function `calc_sum()` that takes a list of numbers `nums` as input and returns the sum of the numbers.\n"
      ]
    },
    {
      "cell_type": "code",
      "execution_count": 9,
      "metadata": {
        "id": "qYELBffHJJrW"
      },
      "outputs": [
        {
          "data": {
            "text/plain": [
              "9"
            ]
          },
          "execution_count": 9,
          "metadata": {},
          "output_type": "execute_result"
        }
      ],
      "source": [
        "def calc_sum(nums):\n",
        "    sum = 0\n",
        "    for num in nums:\n",
        "        sum += num\n",
        "    return sum\n",
        "\n",
        "nums = [5, 3, -2, 4, -1]\n",
        "calc_sum(nums)"
      ]
    },
    {
      "cell_type": "markdown",
      "metadata": {
        "id": "dXXLPMzk-JNi"
      },
      "source": [
        "**Q9:** Write a function that takes a string as input and returns a dictionary containing the frequency of each character in the string."
      ]
    },
    {
      "cell_type": "code",
      "execution_count": 10,
      "metadata": {
        "id": "kqtL-abJ-L7I"
      },
      "outputs": [
        {
          "name": "stdout",
          "output_type": "stream",
          "text": [
            "{'a': 2, 'b': 1, 'c': 3, 'd': 1, 'e': 3, 'f': 2}\n"
          ]
        }
      ],
      "source": [
        "def count_char_freq(input_string):\n",
        "    freq = {}\n",
        "    for char in input_string:\n",
        "        if char in freq:\n",
        "            freq[char] += 1\n",
        "        else:\n",
        "            freq[char] = 1\n",
        "    return freq\n",
        "\n",
        "string = \"abcaccdefeef\"\n",
        "char_freq = count_char_freq(string)\n",
        "print(char_freq)"
      ]
    },
    {
      "cell_type": "markdown",
      "metadata": {
        "id": "DdNrfKtyFzyz"
      },
      "source": [
        "### Pandas Exercises:\n",
        "Let's use dataset available at https://www.kaggle.com/datasets/shivamb/netflix-shows to complete the following exercises:\n",
        "\n",
        "**Q10:** Load a CSV file `netflix_titles.csv` into a pandas DataFrame and print out the first 10 rows."
      ]
    },
    {
      "cell_type": "code",
      "execution_count": 12,
      "metadata": {
        "id": "jbXzWA0WMHex"
      },
      "outputs": [
        {
          "data": {
            "text/html": [
              "<div>\n",
              "<style scoped>\n",
              "    .dataframe tbody tr th:only-of-type {\n",
              "        vertical-align: middle;\n",
              "    }\n",
              "\n",
              "    .dataframe tbody tr th {\n",
              "        vertical-align: top;\n",
              "    }\n",
              "\n",
              "    .dataframe thead th {\n",
              "        text-align: right;\n",
              "    }\n",
              "</style>\n",
              "<table border=\"1\" class=\"dataframe\">\n",
              "  <thead>\n",
              "    <tr style=\"text-align: right;\">\n",
              "      <th></th>\n",
              "      <th>show_id</th>\n",
              "      <th>type</th>\n",
              "      <th>title</th>\n",
              "      <th>director</th>\n",
              "      <th>cast</th>\n",
              "      <th>country</th>\n",
              "      <th>date_added</th>\n",
              "      <th>release_year</th>\n",
              "      <th>rating</th>\n",
              "      <th>duration</th>\n",
              "      <th>listed_in</th>\n",
              "      <th>description</th>\n",
              "    </tr>\n",
              "  </thead>\n",
              "  <tbody>\n",
              "    <tr>\n",
              "      <th>0</th>\n",
              "      <td>s1</td>\n",
              "      <td>Movie</td>\n",
              "      <td>Dick Johnson Is Dead</td>\n",
              "      <td>Kirsten Johnson</td>\n",
              "      <td>NaN</td>\n",
              "      <td>United States</td>\n",
              "      <td>September 25, 2021</td>\n",
              "      <td>2020</td>\n",
              "      <td>PG-13</td>\n",
              "      <td>90 min</td>\n",
              "      <td>Documentaries</td>\n",
              "      <td>As her father nears the end of his life, filmm...</td>\n",
              "    </tr>\n",
              "    <tr>\n",
              "      <th>1</th>\n",
              "      <td>s2</td>\n",
              "      <td>TV Show</td>\n",
              "      <td>Blood &amp; Water</td>\n",
              "      <td>NaN</td>\n",
              "      <td>Ama Qamata, Khosi Ngema, Gail Mabalane, Thaban...</td>\n",
              "      <td>South Africa</td>\n",
              "      <td>September 24, 2021</td>\n",
              "      <td>2021</td>\n",
              "      <td>TV-MA</td>\n",
              "      <td>2 Seasons</td>\n",
              "      <td>International TV Shows, TV Dramas, TV Mysteries</td>\n",
              "      <td>After crossing paths at a party, a Cape Town t...</td>\n",
              "    </tr>\n",
              "    <tr>\n",
              "      <th>2</th>\n",
              "      <td>s3</td>\n",
              "      <td>TV Show</td>\n",
              "      <td>Ganglands</td>\n",
              "      <td>Julien Leclercq</td>\n",
              "      <td>Sami Bouajila, Tracy Gotoas, Samuel Jouy, Nabi...</td>\n",
              "      <td>NaN</td>\n",
              "      <td>September 24, 2021</td>\n",
              "      <td>2021</td>\n",
              "      <td>TV-MA</td>\n",
              "      <td>1 Season</td>\n",
              "      <td>Crime TV Shows, International TV Shows, TV Act...</td>\n",
              "      <td>To protect his family from a powerful drug lor...</td>\n",
              "    </tr>\n",
              "    <tr>\n",
              "      <th>3</th>\n",
              "      <td>s4</td>\n",
              "      <td>TV Show</td>\n",
              "      <td>Jailbirds New Orleans</td>\n",
              "      <td>NaN</td>\n",
              "      <td>NaN</td>\n",
              "      <td>NaN</td>\n",
              "      <td>September 24, 2021</td>\n",
              "      <td>2021</td>\n",
              "      <td>TV-MA</td>\n",
              "      <td>1 Season</td>\n",
              "      <td>Docuseries, Reality TV</td>\n",
              "      <td>Feuds, flirtations and toilet talk go down amo...</td>\n",
              "    </tr>\n",
              "    <tr>\n",
              "      <th>4</th>\n",
              "      <td>s5</td>\n",
              "      <td>TV Show</td>\n",
              "      <td>Kota Factory</td>\n",
              "      <td>NaN</td>\n",
              "      <td>Mayur More, Jitendra Kumar, Ranjan Raj, Alam K...</td>\n",
              "      <td>India</td>\n",
              "      <td>September 24, 2021</td>\n",
              "      <td>2021</td>\n",
              "      <td>TV-MA</td>\n",
              "      <td>2 Seasons</td>\n",
              "      <td>International TV Shows, Romantic TV Shows, TV ...</td>\n",
              "      <td>In a city of coaching centers known to train I...</td>\n",
              "    </tr>\n",
              "    <tr>\n",
              "      <th>5</th>\n",
              "      <td>s6</td>\n",
              "      <td>TV Show</td>\n",
              "      <td>Midnight Mass</td>\n",
              "      <td>Mike Flanagan</td>\n",
              "      <td>Kate Siegel, Zach Gilford, Hamish Linklater, H...</td>\n",
              "      <td>NaN</td>\n",
              "      <td>September 24, 2021</td>\n",
              "      <td>2021</td>\n",
              "      <td>TV-MA</td>\n",
              "      <td>1 Season</td>\n",
              "      <td>TV Dramas, TV Horror, TV Mysteries</td>\n",
              "      <td>The arrival of a charismatic young priest brin...</td>\n",
              "    </tr>\n",
              "    <tr>\n",
              "      <th>6</th>\n",
              "      <td>s7</td>\n",
              "      <td>Movie</td>\n",
              "      <td>My Little Pony: A New Generation</td>\n",
              "      <td>Robert Cullen, José Luis Ucha</td>\n",
              "      <td>Vanessa Hudgens, Kimiko Glenn, James Marsden, ...</td>\n",
              "      <td>NaN</td>\n",
              "      <td>September 24, 2021</td>\n",
              "      <td>2021</td>\n",
              "      <td>PG</td>\n",
              "      <td>91 min</td>\n",
              "      <td>Children &amp; Family Movies</td>\n",
              "      <td>Equestria's divided. But a bright-eyed hero be...</td>\n",
              "    </tr>\n",
              "    <tr>\n",
              "      <th>7</th>\n",
              "      <td>s8</td>\n",
              "      <td>Movie</td>\n",
              "      <td>Sankofa</td>\n",
              "      <td>Haile Gerima</td>\n",
              "      <td>Kofi Ghanaba, Oyafunmike Ogunlano, Alexandra D...</td>\n",
              "      <td>United States, Ghana, Burkina Faso, United Kin...</td>\n",
              "      <td>September 24, 2021</td>\n",
              "      <td>1993</td>\n",
              "      <td>TV-MA</td>\n",
              "      <td>125 min</td>\n",
              "      <td>Dramas, Independent Movies, International Movies</td>\n",
              "      <td>On a photo shoot in Ghana, an American model s...</td>\n",
              "    </tr>\n",
              "    <tr>\n",
              "      <th>8</th>\n",
              "      <td>s9</td>\n",
              "      <td>TV Show</td>\n",
              "      <td>The Great British Baking Show</td>\n",
              "      <td>Andy Devonshire</td>\n",
              "      <td>Mel Giedroyc, Sue Perkins, Mary Berry, Paul Ho...</td>\n",
              "      <td>United Kingdom</td>\n",
              "      <td>September 24, 2021</td>\n",
              "      <td>2021</td>\n",
              "      <td>TV-14</td>\n",
              "      <td>9 Seasons</td>\n",
              "      <td>British TV Shows, Reality TV</td>\n",
              "      <td>A talented batch of amateur bakers face off in...</td>\n",
              "    </tr>\n",
              "    <tr>\n",
              "      <th>9</th>\n",
              "      <td>s10</td>\n",
              "      <td>Movie</td>\n",
              "      <td>The Starling</td>\n",
              "      <td>Theodore Melfi</td>\n",
              "      <td>Melissa McCarthy, Chris O'Dowd, Kevin Kline, T...</td>\n",
              "      <td>United States</td>\n",
              "      <td>September 24, 2021</td>\n",
              "      <td>2021</td>\n",
              "      <td>PG-13</td>\n",
              "      <td>104 min</td>\n",
              "      <td>Comedies, Dramas</td>\n",
              "      <td>A woman adjusting to life after a loss contend...</td>\n",
              "    </tr>\n",
              "  </tbody>\n",
              "</table>\n",
              "</div>"
            ],
            "text/plain": [
              "  show_id     type                             title  \\\n",
              "0      s1    Movie              Dick Johnson Is Dead   \n",
              "1      s2  TV Show                     Blood & Water   \n",
              "2      s3  TV Show                         Ganglands   \n",
              "3      s4  TV Show             Jailbirds New Orleans   \n",
              "4      s5  TV Show                      Kota Factory   \n",
              "5      s6  TV Show                     Midnight Mass   \n",
              "6      s7    Movie  My Little Pony: A New Generation   \n",
              "7      s8    Movie                           Sankofa   \n",
              "8      s9  TV Show     The Great British Baking Show   \n",
              "9     s10    Movie                      The Starling   \n",
              "\n",
              "                        director  \\\n",
              "0                Kirsten Johnson   \n",
              "1                            NaN   \n",
              "2                Julien Leclercq   \n",
              "3                            NaN   \n",
              "4                            NaN   \n",
              "5                  Mike Flanagan   \n",
              "6  Robert Cullen, José Luis Ucha   \n",
              "7                   Haile Gerima   \n",
              "8                Andy Devonshire   \n",
              "9                 Theodore Melfi   \n",
              "\n",
              "                                                cast  \\\n",
              "0                                                NaN   \n",
              "1  Ama Qamata, Khosi Ngema, Gail Mabalane, Thaban...   \n",
              "2  Sami Bouajila, Tracy Gotoas, Samuel Jouy, Nabi...   \n",
              "3                                                NaN   \n",
              "4  Mayur More, Jitendra Kumar, Ranjan Raj, Alam K...   \n",
              "5  Kate Siegel, Zach Gilford, Hamish Linklater, H...   \n",
              "6  Vanessa Hudgens, Kimiko Glenn, James Marsden, ...   \n",
              "7  Kofi Ghanaba, Oyafunmike Ogunlano, Alexandra D...   \n",
              "8  Mel Giedroyc, Sue Perkins, Mary Berry, Paul Ho...   \n",
              "9  Melissa McCarthy, Chris O'Dowd, Kevin Kline, T...   \n",
              "\n",
              "                                             country          date_added  \\\n",
              "0                                      United States  September 25, 2021   \n",
              "1                                       South Africa  September 24, 2021   \n",
              "2                                                NaN  September 24, 2021   \n",
              "3                                                NaN  September 24, 2021   \n",
              "4                                              India  September 24, 2021   \n",
              "5                                                NaN  September 24, 2021   \n",
              "6                                                NaN  September 24, 2021   \n",
              "7  United States, Ghana, Burkina Faso, United Kin...  September 24, 2021   \n",
              "8                                     United Kingdom  September 24, 2021   \n",
              "9                                      United States  September 24, 2021   \n",
              "\n",
              "   release_year rating   duration  \\\n",
              "0          2020  PG-13     90 min   \n",
              "1          2021  TV-MA  2 Seasons   \n",
              "2          2021  TV-MA   1 Season   \n",
              "3          2021  TV-MA   1 Season   \n",
              "4          2021  TV-MA  2 Seasons   \n",
              "5          2021  TV-MA   1 Season   \n",
              "6          2021     PG     91 min   \n",
              "7          1993  TV-MA    125 min   \n",
              "8          2021  TV-14  9 Seasons   \n",
              "9          2021  PG-13    104 min   \n",
              "\n",
              "                                           listed_in  \\\n",
              "0                                      Documentaries   \n",
              "1    International TV Shows, TV Dramas, TV Mysteries   \n",
              "2  Crime TV Shows, International TV Shows, TV Act...   \n",
              "3                             Docuseries, Reality TV   \n",
              "4  International TV Shows, Romantic TV Shows, TV ...   \n",
              "5                 TV Dramas, TV Horror, TV Mysteries   \n",
              "6                           Children & Family Movies   \n",
              "7   Dramas, Independent Movies, International Movies   \n",
              "8                       British TV Shows, Reality TV   \n",
              "9                                   Comedies, Dramas   \n",
              "\n",
              "                                         description  \n",
              "0  As her father nears the end of his life, filmm...  \n",
              "1  After crossing paths at a party, a Cape Town t...  \n",
              "2  To protect his family from a powerful drug lor...  \n",
              "3  Feuds, flirtations and toilet talk go down amo...  \n",
              "4  In a city of coaching centers known to train I...  \n",
              "5  The arrival of a charismatic young priest brin...  \n",
              "6  Equestria's divided. But a bright-eyed hero be...  \n",
              "7  On a photo shoot in Ghana, an American model s...  \n",
              "8  A talented batch of amateur bakers face off in...  \n",
              "9  A woman adjusting to life after a loss contend...  "
            ]
          },
          "execution_count": 12,
          "metadata": {},
          "output_type": "execute_result"
        }
      ],
      "source": [
        "# Your code starts from here\n",
        "# ...\n",
        "import pandas as pd\n",
        "df = pd.read_csv('./data/netflix_titles.csv')\n",
        "df.head(10)"
      ]
    },
    {
      "cell_type": "markdown",
      "metadata": {
        "id": "switI7YdMH_M"
      },
      "source": [
        "**Q11:** Show movies that were released between 2016 and 2020 (i.e, including 2016 and 2020). *Hint: you might be interested in `release_year`."
      ]
    },
    {
      "cell_type": "code",
      "execution_count": 14,
      "metadata": {
        "id": "CHprGj-fMIdO"
      },
      "outputs": [
        {
          "data": {
            "text/html": [
              "<div>\n",
              "<style scoped>\n",
              "    .dataframe tbody tr th:only-of-type {\n",
              "        vertical-align: middle;\n",
              "    }\n",
              "\n",
              "    .dataframe tbody tr th {\n",
              "        vertical-align: top;\n",
              "    }\n",
              "\n",
              "    .dataframe thead th {\n",
              "        text-align: right;\n",
              "    }\n",
              "</style>\n",
              "<table border=\"1\" class=\"dataframe\">\n",
              "  <thead>\n",
              "    <tr style=\"text-align: right;\">\n",
              "      <th></th>\n",
              "      <th>show_id</th>\n",
              "      <th>type</th>\n",
              "      <th>title</th>\n",
              "      <th>director</th>\n",
              "      <th>cast</th>\n",
              "      <th>country</th>\n",
              "      <th>date_added</th>\n",
              "      <th>release_year</th>\n",
              "      <th>rating</th>\n",
              "      <th>duration</th>\n",
              "      <th>listed_in</th>\n",
              "      <th>description</th>\n",
              "    </tr>\n",
              "  </thead>\n",
              "  <tbody>\n",
              "    <tr>\n",
              "      <th>0</th>\n",
              "      <td>s1</td>\n",
              "      <td>Movie</td>\n",
              "      <td>Dick Johnson Is Dead</td>\n",
              "      <td>Kirsten Johnson</td>\n",
              "      <td>NaN</td>\n",
              "      <td>United States</td>\n",
              "      <td>September 25, 2021</td>\n",
              "      <td>2020</td>\n",
              "      <td>PG-13</td>\n",
              "      <td>90 min</td>\n",
              "      <td>Documentaries</td>\n",
              "      <td>As her father nears the end of his life, filmm...</td>\n",
              "    </tr>\n",
              "    <tr>\n",
              "      <th>16</th>\n",
              "      <td>s17</td>\n",
              "      <td>Movie</td>\n",
              "      <td>Europe's Most Dangerous Man: Otto Skorzeny in ...</td>\n",
              "      <td>Pedro de Echave García, Pablo Azorín Williams</td>\n",
              "      <td>NaN</td>\n",
              "      <td>NaN</td>\n",
              "      <td>September 22, 2021</td>\n",
              "      <td>2020</td>\n",
              "      <td>TV-MA</td>\n",
              "      <td>67 min</td>\n",
              "      <td>Documentaries, International Movies</td>\n",
              "      <td>Declassified documents reveal the post-WWII li...</td>\n",
              "    </tr>\n",
              "    <tr>\n",
              "      <th>17</th>\n",
              "      <td>s18</td>\n",
              "      <td>TV Show</td>\n",
              "      <td>Falsa identidad</td>\n",
              "      <td>NaN</td>\n",
              "      <td>Luis Ernesto Franco, Camila Sodi, Sergio Goyri...</td>\n",
              "      <td>Mexico</td>\n",
              "      <td>September 22, 2021</td>\n",
              "      <td>2020</td>\n",
              "      <td>TV-MA</td>\n",
              "      <td>2 Seasons</td>\n",
              "      <td>Crime TV Shows, Spanish-Language TV Shows, TV ...</td>\n",
              "      <td>Strangers Diego and Isabel flee their home in ...</td>\n",
              "    </tr>\n",
              "    <tr>\n",
              "      <th>21</th>\n",
              "      <td>s22</td>\n",
              "      <td>TV Show</td>\n",
              "      <td>Resurrection: Ertugrul</td>\n",
              "      <td>NaN</td>\n",
              "      <td>Engin Altan Düzyatan, Serdar Gökhan, Hülya Dar...</td>\n",
              "      <td>Turkey</td>\n",
              "      <td>September 22, 2021</td>\n",
              "      <td>2018</td>\n",
              "      <td>TV-14</td>\n",
              "      <td>5 Seasons</td>\n",
              "      <td>International TV Shows, TV Action &amp; Adventure,...</td>\n",
              "      <td>When a good deed unwittingly endangers his cla...</td>\n",
              "    </tr>\n",
              "    <tr>\n",
              "      <th>32</th>\n",
              "      <td>s33</td>\n",
              "      <td>TV Show</td>\n",
              "      <td>Sex Education</td>\n",
              "      <td>NaN</td>\n",
              "      <td>Asa Butterfield, Gillian Anderson, Ncuti Gatwa...</td>\n",
              "      <td>United Kingdom</td>\n",
              "      <td>September 17, 2021</td>\n",
              "      <td>2020</td>\n",
              "      <td>TV-MA</td>\n",
              "      <td>3 Seasons</td>\n",
              "      <td>British TV Shows, International TV Shows, TV C...</td>\n",
              "      <td>Insecure Otis has all the answers when it come...</td>\n",
              "    </tr>\n",
              "    <tr>\n",
              "      <th>...</th>\n",
              "      <td>...</td>\n",
              "      <td>...</td>\n",
              "      <td>...</td>\n",
              "      <td>...</td>\n",
              "      <td>...</td>\n",
              "      <td>...</td>\n",
              "      <td>...</td>\n",
              "      <td>...</td>\n",
              "      <td>...</td>\n",
              "      <td>...</td>\n",
              "      <td>...</td>\n",
              "      <td>...</td>\n",
              "    </tr>\n",
              "    <tr>\n",
              "      <th>8787</th>\n",
              "      <td>s8788</td>\n",
              "      <td>Movie</td>\n",
              "      <td>You Can’t Fight Christmas</td>\n",
              "      <td>Kenny Young</td>\n",
              "      <td>Brely Evans, Andra Fuller, Persia White, Porsc...</td>\n",
              "      <td>United States</td>\n",
              "      <td>December 19, 2017</td>\n",
              "      <td>2017</td>\n",
              "      <td>TV-PG</td>\n",
              "      <td>85 min</td>\n",
              "      <td>Comedies, Romantic Movies</td>\n",
              "      <td>After stepping in to revitalize his family's h...</td>\n",
              "    </tr>\n",
              "    <tr>\n",
              "      <th>8794</th>\n",
              "      <td>s8795</td>\n",
              "      <td>Movie</td>\n",
              "      <td>اشتباك</td>\n",
              "      <td>Mohamed Diab</td>\n",
              "      <td>Nelly Karim, Hany Adel, Tarek Abdel Aziz, Ahme...</td>\n",
              "      <td>Egypt, France</td>\n",
              "      <td>October 11, 2018</td>\n",
              "      <td>2016</td>\n",
              "      <td>TV-14</td>\n",
              "      <td>98 min</td>\n",
              "      <td>Dramas, Independent Movies, International Movies</td>\n",
              "      <td>Amid the tumult following Egyptian President M...</td>\n",
              "    </tr>\n",
              "    <tr>\n",
              "      <th>8796</th>\n",
              "      <td>s8797</td>\n",
              "      <td>TV Show</td>\n",
              "      <td>Yunus Emre</td>\n",
              "      <td>NaN</td>\n",
              "      <td>Gökhan Atalay, Payidar Tüfekçioglu, Baran Akbu...</td>\n",
              "      <td>Turkey</td>\n",
              "      <td>January 17, 2017</td>\n",
              "      <td>2016</td>\n",
              "      <td>TV-PG</td>\n",
              "      <td>2 Seasons</td>\n",
              "      <td>International TV Shows, TV Dramas</td>\n",
              "      <td>During the Mongol invasions, Yunus Emre leaves...</td>\n",
              "    </tr>\n",
              "    <tr>\n",
              "      <th>8797</th>\n",
              "      <td>s8798</td>\n",
              "      <td>TV Show</td>\n",
              "      <td>Zak Storm</td>\n",
              "      <td>NaN</td>\n",
              "      <td>Michael Johnston, Jessica Gee-George, Christin...</td>\n",
              "      <td>United States, France, South Korea, Indonesia</td>\n",
              "      <td>September 13, 2018</td>\n",
              "      <td>2016</td>\n",
              "      <td>TV-Y7</td>\n",
              "      <td>3 Seasons</td>\n",
              "      <td>Kids' TV</td>\n",
              "      <td>Teen surfer Zak Storm is mysteriously transpor...</td>\n",
              "    </tr>\n",
              "    <tr>\n",
              "      <th>8803</th>\n",
              "      <td>s8804</td>\n",
              "      <td>TV Show</td>\n",
              "      <td>Zombie Dumb</td>\n",
              "      <td>NaN</td>\n",
              "      <td>NaN</td>\n",
              "      <td>NaN</td>\n",
              "      <td>July 1, 2019</td>\n",
              "      <td>2018</td>\n",
              "      <td>TV-Y7</td>\n",
              "      <td>2 Seasons</td>\n",
              "      <td>Kids' TV, Korean TV Shows, TV Comedies</td>\n",
              "      <td>While living alone in a spooky town, a young g...</td>\n",
              "    </tr>\n",
              "  </tbody>\n",
              "</table>\n",
              "<p>5064 rows × 12 columns</p>\n",
              "</div>"
            ],
            "text/plain": [
              "     show_id     type                                              title  \\\n",
              "0         s1    Movie                               Dick Johnson Is Dead   \n",
              "16       s17    Movie  Europe's Most Dangerous Man: Otto Skorzeny in ...   \n",
              "17       s18  TV Show                                    Falsa identidad   \n",
              "21       s22  TV Show                             Resurrection: Ertugrul   \n",
              "32       s33  TV Show                                      Sex Education   \n",
              "...      ...      ...                                                ...   \n",
              "8787   s8788    Movie                          You Can’t Fight Christmas   \n",
              "8794   s8795    Movie                                             اشتباك   \n",
              "8796   s8797  TV Show                                         Yunus Emre   \n",
              "8797   s8798  TV Show                                          Zak Storm   \n",
              "8803   s8804  TV Show                                        Zombie Dumb   \n",
              "\n",
              "                                           director  \\\n",
              "0                                   Kirsten Johnson   \n",
              "16    Pedro de Echave García, Pablo Azorín Williams   \n",
              "17                                              NaN   \n",
              "21                                              NaN   \n",
              "32                                              NaN   \n",
              "...                                             ...   \n",
              "8787                                    Kenny Young   \n",
              "8794                                   Mohamed Diab   \n",
              "8796                                            NaN   \n",
              "8797                                            NaN   \n",
              "8803                                            NaN   \n",
              "\n",
              "                                                   cast  \\\n",
              "0                                                   NaN   \n",
              "16                                                  NaN   \n",
              "17    Luis Ernesto Franco, Camila Sodi, Sergio Goyri...   \n",
              "21    Engin Altan Düzyatan, Serdar Gökhan, Hülya Dar...   \n",
              "32    Asa Butterfield, Gillian Anderson, Ncuti Gatwa...   \n",
              "...                                                 ...   \n",
              "8787  Brely Evans, Andra Fuller, Persia White, Porsc...   \n",
              "8794  Nelly Karim, Hany Adel, Tarek Abdel Aziz, Ahme...   \n",
              "8796  Gökhan Atalay, Payidar Tüfekçioglu, Baran Akbu...   \n",
              "8797  Michael Johnston, Jessica Gee-George, Christin...   \n",
              "8803                                                NaN   \n",
              "\n",
              "                                            country          date_added  \\\n",
              "0                                     United States  September 25, 2021   \n",
              "16                                              NaN  September 22, 2021   \n",
              "17                                           Mexico  September 22, 2021   \n",
              "21                                           Turkey  September 22, 2021   \n",
              "32                                   United Kingdom  September 17, 2021   \n",
              "...                                             ...                 ...   \n",
              "8787                                  United States   December 19, 2017   \n",
              "8794                                  Egypt, France    October 11, 2018   \n",
              "8796                                         Turkey    January 17, 2017   \n",
              "8797  United States, France, South Korea, Indonesia  September 13, 2018   \n",
              "8803                                            NaN        July 1, 2019   \n",
              "\n",
              "      release_year rating   duration  \\\n",
              "0             2020  PG-13     90 min   \n",
              "16            2020  TV-MA     67 min   \n",
              "17            2020  TV-MA  2 Seasons   \n",
              "21            2018  TV-14  5 Seasons   \n",
              "32            2020  TV-MA  3 Seasons   \n",
              "...            ...    ...        ...   \n",
              "8787          2017  TV-PG     85 min   \n",
              "8794          2016  TV-14     98 min   \n",
              "8796          2016  TV-PG  2 Seasons   \n",
              "8797          2016  TV-Y7  3 Seasons   \n",
              "8803          2018  TV-Y7  2 Seasons   \n",
              "\n",
              "                                              listed_in  \\\n",
              "0                                         Documentaries   \n",
              "16                  Documentaries, International Movies   \n",
              "17    Crime TV Shows, Spanish-Language TV Shows, TV ...   \n",
              "21    International TV Shows, TV Action & Adventure,...   \n",
              "32    British TV Shows, International TV Shows, TV C...   \n",
              "...                                                 ...   \n",
              "8787                          Comedies, Romantic Movies   \n",
              "8794   Dramas, Independent Movies, International Movies   \n",
              "8796                  International TV Shows, TV Dramas   \n",
              "8797                                           Kids' TV   \n",
              "8803             Kids' TV, Korean TV Shows, TV Comedies   \n",
              "\n",
              "                                            description  \n",
              "0     As her father nears the end of his life, filmm...  \n",
              "16    Declassified documents reveal the post-WWII li...  \n",
              "17    Strangers Diego and Isabel flee their home in ...  \n",
              "21    When a good deed unwittingly endangers his cla...  \n",
              "32    Insecure Otis has all the answers when it come...  \n",
              "...                                                 ...  \n",
              "8787  After stepping in to revitalize his family's h...  \n",
              "8794  Amid the tumult following Egyptian President M...  \n",
              "8796  During the Mongol invasions, Yunus Emre leaves...  \n",
              "8797  Teen surfer Zak Storm is mysteriously transpor...  \n",
              "8803  While living alone in a spooky town, a young g...  \n",
              "\n",
              "[5064 rows x 12 columns]"
            ]
          },
          "execution_count": 14,
          "metadata": {},
          "output_type": "execute_result"
        }
      ],
      "source": [
        "df['release_year'] = df['release_year'].astype(int)\n",
        "df[(df['release_year'] >= 2016) & (df['release_year'] <= 2020)]"
      ]
    },
    {
      "cell_type": "code",
      "execution_count": null,
      "metadata": {},
      "outputs": [],
      "source": []
    }
  ],
  "metadata": {
    "colab": {
      "provenance": []
    },
    "kernelspec": {
      "display_name": "Python 3",
      "name": "python3"
    },
    "language_info": {
      "codemirror_mode": {
        "name": "ipython",
        "version": 3
      },
      "file_extension": ".py",
      "mimetype": "text/x-python",
      "name": "python",
      "nbconvert_exporter": "python",
      "pygments_lexer": "ipython3",
      "version": "3.11.6"
    }
  },
  "nbformat": 4,
  "nbformat_minor": 0
}
